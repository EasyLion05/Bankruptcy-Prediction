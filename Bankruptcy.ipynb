{
 "cells": [
  {
   "cell_type": "code",
   "execution_count": 147,
   "id": "d487207f-7bc0-47b4-8f70-7200133f74b9",
   "metadata": {},
   "outputs": [],
   "source": [
    "import matplotlib.pyplot as plt\n",
    "import pandas as pd\n",
    "import plotly.express as px\n",
    "import pytz\n",
    "\n",
    "import pickle\n",
    "\n",
    "import matplotlib.pyplot as plt\n",
    "import pandas as pd\n",
    "import seaborn as sns\n",
    "from imblearn.over_sampling import RandomOverSampler\n",
    "from imblearn.under_sampling import RandomUnderSampler\n",
    "from sklearn.impute import SimpleImputer\n",
    "from sklearn.metrics import (\n",
    "    ConfusionMatrixDisplay,\n",
    "    classification_report,\n",
    "    confusion_matrix,\n",
    ")\n",
    "import ipywidgets as widgets\n",
    "from sklearn.metrics import recall_score\n",
    "from ipywidgets import interact\n",
    "\n",
    "from sklearn.model_selection import train_test_split\n",
    "from sklearn.pipeline import make_pipeline\n",
    "from sklearn.tree import DecisionTreeClassifier\n",
    "from sklearn.ensemble import RandomForestClassifier\n",
    "from sklearn.ensemble import GradientBoostingClassifier\n",
    "from sklearn.model_selection import GridSearchCV, cross_val_score, train_test_split\n",
    "from sklearn.pipeline import make_pipeline\n",
    "\n",
    "\n",
    "from sklearn.linear_model import LinearRegression\n",
    "from sklearn.metrics import mean_absolute_error"
   ]
  },
  {
   "cell_type": "code",
   "execution_count": 142,
   "id": "9acd476c-893d-434c-a641-65e19d978413",
   "metadata": {},
   "outputs": [
    {
     "data": {
      "text/html": [
       "<div>\n",
       "<style scoped>\n",
       "    .dataframe tbody tr th:only-of-type {\n",
       "        vertical-align: middle;\n",
       "    }\n",
       "\n",
       "    .dataframe tbody tr th {\n",
       "        vertical-align: top;\n",
       "    }\n",
       "\n",
       "    .dataframe thead th {\n",
       "        text-align: right;\n",
       "    }\n",
       "</style>\n",
       "<table border=\"1\" class=\"dataframe\">\n",
       "  <thead>\n",
       "    <tr style=\"text-align: right;\">\n",
       "      <th></th>\n",
       "      <th>Bankrupt?</th>\n",
       "      <th>ROA(C) before interest and depreciation before interest</th>\n",
       "      <th>ROA(A) before interest and % after tax</th>\n",
       "      <th>ROA(B) before interest and depreciation after tax</th>\n",
       "      <th>Operating Gross Margin</th>\n",
       "      <th>Realized Sales Gross Margin</th>\n",
       "      <th>Operating Profit Rate</th>\n",
       "      <th>Pre-tax net Interest Rate</th>\n",
       "      <th>After-tax net Interest Rate</th>\n",
       "      <th>Non-industry income and expenditure/revenue</th>\n",
       "      <th>...</th>\n",
       "      <th>Net Income to Total Assets</th>\n",
       "      <th>Total assets to GNP price</th>\n",
       "      <th>No-credit Interval</th>\n",
       "      <th>Gross Profit to Sales</th>\n",
       "      <th>Net Income to Stockholder's Equity</th>\n",
       "      <th>Liability to Equity</th>\n",
       "      <th>Degree of Financial Leverage (DFL)</th>\n",
       "      <th>Interest Coverage Ratio (Interest expense to EBIT)</th>\n",
       "      <th>Net Income Flag</th>\n",
       "      <th>Equity to Liability</th>\n",
       "    </tr>\n",
       "  </thead>\n",
       "  <tbody>\n",
       "    <tr>\n",
       "      <th>0</th>\n",
       "      <td>1</td>\n",
       "      <td>0.370594</td>\n",
       "      <td>0.424389</td>\n",
       "      <td>0.405750</td>\n",
       "      <td>0.601457</td>\n",
       "      <td>0.601457</td>\n",
       "      <td>0.998969</td>\n",
       "      <td>0.796887</td>\n",
       "      <td>0.808809</td>\n",
       "      <td>0.302646</td>\n",
       "      <td>...</td>\n",
       "      <td>0.716845</td>\n",
       "      <td>0.009219</td>\n",
       "      <td>0.622879</td>\n",
       "      <td>0.601453</td>\n",
       "      <td>0.827890</td>\n",
       "      <td>0.290202</td>\n",
       "      <td>0.026601</td>\n",
       "      <td>0.564050</td>\n",
       "      <td>1</td>\n",
       "      <td>0.016469</td>\n",
       "    </tr>\n",
       "    <tr>\n",
       "      <th>1</th>\n",
       "      <td>1</td>\n",
       "      <td>0.464291</td>\n",
       "      <td>0.538214</td>\n",
       "      <td>0.516730</td>\n",
       "      <td>0.610235</td>\n",
       "      <td>0.610235</td>\n",
       "      <td>0.998946</td>\n",
       "      <td>0.797380</td>\n",
       "      <td>0.809301</td>\n",
       "      <td>0.303556</td>\n",
       "      <td>...</td>\n",
       "      <td>0.795297</td>\n",
       "      <td>0.008323</td>\n",
       "      <td>0.623652</td>\n",
       "      <td>0.610237</td>\n",
       "      <td>0.839969</td>\n",
       "      <td>0.283846</td>\n",
       "      <td>0.264577</td>\n",
       "      <td>0.570175</td>\n",
       "      <td>1</td>\n",
       "      <td>0.020794</td>\n",
       "    </tr>\n",
       "    <tr>\n",
       "      <th>2</th>\n",
       "      <td>1</td>\n",
       "      <td>0.426071</td>\n",
       "      <td>0.499019</td>\n",
       "      <td>0.472295</td>\n",
       "      <td>0.601450</td>\n",
       "      <td>0.601364</td>\n",
       "      <td>0.998857</td>\n",
       "      <td>0.796403</td>\n",
       "      <td>0.808388</td>\n",
       "      <td>0.302035</td>\n",
       "      <td>...</td>\n",
       "      <td>0.774670</td>\n",
       "      <td>0.040003</td>\n",
       "      <td>0.623841</td>\n",
       "      <td>0.601449</td>\n",
       "      <td>0.836774</td>\n",
       "      <td>0.290189</td>\n",
       "      <td>0.026555</td>\n",
       "      <td>0.563706</td>\n",
       "      <td>1</td>\n",
       "      <td>0.016474</td>\n",
       "    </tr>\n",
       "    <tr>\n",
       "      <th>3</th>\n",
       "      <td>1</td>\n",
       "      <td>0.399844</td>\n",
       "      <td>0.451265</td>\n",
       "      <td>0.457733</td>\n",
       "      <td>0.583541</td>\n",
       "      <td>0.583541</td>\n",
       "      <td>0.998700</td>\n",
       "      <td>0.796967</td>\n",
       "      <td>0.808966</td>\n",
       "      <td>0.303350</td>\n",
       "      <td>...</td>\n",
       "      <td>0.739555</td>\n",
       "      <td>0.003252</td>\n",
       "      <td>0.622929</td>\n",
       "      <td>0.583538</td>\n",
       "      <td>0.834697</td>\n",
       "      <td>0.281721</td>\n",
       "      <td>0.026697</td>\n",
       "      <td>0.564663</td>\n",
       "      <td>1</td>\n",
       "      <td>0.023982</td>\n",
       "    </tr>\n",
       "    <tr>\n",
       "      <th>4</th>\n",
       "      <td>1</td>\n",
       "      <td>0.465022</td>\n",
       "      <td>0.538432</td>\n",
       "      <td>0.522298</td>\n",
       "      <td>0.598783</td>\n",
       "      <td>0.598783</td>\n",
       "      <td>0.998973</td>\n",
       "      <td>0.797366</td>\n",
       "      <td>0.809304</td>\n",
       "      <td>0.303475</td>\n",
       "      <td>...</td>\n",
       "      <td>0.795016</td>\n",
       "      <td>0.003878</td>\n",
       "      <td>0.623521</td>\n",
       "      <td>0.598782</td>\n",
       "      <td>0.839973</td>\n",
       "      <td>0.278514</td>\n",
       "      <td>0.024752</td>\n",
       "      <td>0.575617</td>\n",
       "      <td>1</td>\n",
       "      <td>0.035490</td>\n",
       "    </tr>\n",
       "  </tbody>\n",
       "</table>\n",
       "<p>5 rows × 96 columns</p>\n",
       "</div>"
      ],
      "text/plain": [
       "   Bankrupt?   ROA(C) before interest and depreciation before interest  \\\n",
       "0          1                                           0.370594          \n",
       "1          1                                           0.464291          \n",
       "2          1                                           0.426071          \n",
       "3          1                                           0.399844          \n",
       "4          1                                           0.465022          \n",
       "\n",
       "    ROA(A) before interest and % after tax  \\\n",
       "0                                 0.424389   \n",
       "1                                 0.538214   \n",
       "2                                 0.499019   \n",
       "3                                 0.451265   \n",
       "4                                 0.538432   \n",
       "\n",
       "    ROA(B) before interest and depreciation after tax  \\\n",
       "0                                           0.405750    \n",
       "1                                           0.516730    \n",
       "2                                           0.472295    \n",
       "3                                           0.457733    \n",
       "4                                           0.522298    \n",
       "\n",
       "    Operating Gross Margin   Realized Sales Gross Margin  \\\n",
       "0                 0.601457                      0.601457   \n",
       "1                 0.610235                      0.610235   \n",
       "2                 0.601450                      0.601364   \n",
       "3                 0.583541                      0.583541   \n",
       "4                 0.598783                      0.598783   \n",
       "\n",
       "    Operating Profit Rate   Pre-tax net Interest Rate  \\\n",
       "0                0.998969                    0.796887   \n",
       "1                0.998946                    0.797380   \n",
       "2                0.998857                    0.796403   \n",
       "3                0.998700                    0.796967   \n",
       "4                0.998973                    0.797366   \n",
       "\n",
       "    After-tax net Interest Rate   Non-industry income and expenditure/revenue  \\\n",
       "0                      0.808809                                      0.302646   \n",
       "1                      0.809301                                      0.303556   \n",
       "2                      0.808388                                      0.302035   \n",
       "3                      0.808966                                      0.303350   \n",
       "4                      0.809304                                      0.303475   \n",
       "\n",
       "   ...   Net Income to Total Assets   Total assets to GNP price  \\\n",
       "0  ...                     0.716845                    0.009219   \n",
       "1  ...                     0.795297                    0.008323   \n",
       "2  ...                     0.774670                    0.040003   \n",
       "3  ...                     0.739555                    0.003252   \n",
       "4  ...                     0.795016                    0.003878   \n",
       "\n",
       "    No-credit Interval   Gross Profit to Sales  \\\n",
       "0             0.622879                0.601453   \n",
       "1             0.623652                0.610237   \n",
       "2             0.623841                0.601449   \n",
       "3             0.622929                0.583538   \n",
       "4             0.623521                0.598782   \n",
       "\n",
       "    Net Income to Stockholder's Equity   Liability to Equity  \\\n",
       "0                             0.827890              0.290202   \n",
       "1                             0.839969              0.283846   \n",
       "2                             0.836774              0.290189   \n",
       "3                             0.834697              0.281721   \n",
       "4                             0.839973              0.278514   \n",
       "\n",
       "    Degree of Financial Leverage (DFL)  \\\n",
       "0                             0.026601   \n",
       "1                             0.264577   \n",
       "2                             0.026555   \n",
       "3                             0.026697   \n",
       "4                             0.024752   \n",
       "\n",
       "    Interest Coverage Ratio (Interest expense to EBIT)   Net Income Flag  \\\n",
       "0                                           0.564050                   1   \n",
       "1                                           0.570175                   1   \n",
       "2                                           0.563706                   1   \n",
       "3                                           0.564663                   1   \n",
       "4                                           0.575617                   1   \n",
       "\n",
       "    Equity to Liability  \n",
       "0              0.016469  \n",
       "1              0.020794  \n",
       "2              0.016474  \n",
       "3              0.023982  \n",
       "4              0.035490  \n",
       "\n",
       "[5 rows x 96 columns]"
      ]
     },
     "execution_count": 142,
     "metadata": {},
     "output_type": "execute_result"
    }
   ],
   "source": [
    "df = pd.read_csv(\"C:/Users/HP/Documents/DATASETS/bankruptcy/data.csv\")\n",
    "df.head()"
   ]
  },
  {
   "cell_type": "code",
   "execution_count": 143,
   "id": "31703ee5-f41c-4024-9621-bb424c26c846",
   "metadata": {},
   "outputs": [
    {
     "name": "stdout",
     "output_type": "stream",
     "text": [
      "<class 'pandas.core.frame.DataFrame'>\n",
      "RangeIndex: 6819 entries, 0 to 6818\n",
      "Data columns (total 96 columns):\n",
      " #   Column                                                    Non-Null Count  Dtype  \n",
      "---  ------                                                    --------------  -----  \n",
      " 0   Bankrupt?                                                 6819 non-null   int64  \n",
      " 1    ROA(C) before interest and depreciation before interest  6819 non-null   float64\n",
      " 2    ROA(A) before interest and % after tax                   6819 non-null   float64\n",
      " 3    ROA(B) before interest and depreciation after tax        6819 non-null   float64\n",
      " 4    Operating Gross Margin                                   6819 non-null   float64\n",
      " 5    Realized Sales Gross Margin                              6819 non-null   float64\n",
      " 6    Operating Profit Rate                                    6819 non-null   float64\n",
      " 7    Pre-tax net Interest Rate                                6819 non-null   float64\n",
      " 8    After-tax net Interest Rate                              6819 non-null   float64\n",
      " 9    Non-industry income and expenditure/revenue              6819 non-null   float64\n",
      " 10   Continuous interest rate (after tax)                     6819 non-null   float64\n",
      " 11   Operating Expense Rate                                   6819 non-null   float64\n",
      " 12   Research and development expense rate                    6819 non-null   float64\n",
      " 13   Cash flow rate                                           6819 non-null   float64\n",
      " 14   Interest-bearing debt interest rate                      6819 non-null   float64\n",
      " 15   Tax rate (A)                                             6819 non-null   float64\n",
      " 16   Net Value Per Share (B)                                  6819 non-null   float64\n",
      " 17   Net Value Per Share (A)                                  6819 non-null   float64\n",
      " 18   Net Value Per Share (C)                                  6819 non-null   float64\n",
      " 19   Persistent EPS in the Last Four Seasons                  6819 non-null   float64\n",
      " 20   Cash Flow Per Share                                      6819 non-null   float64\n",
      " 21   Revenue Per Share (Yuan ¥)                               6819 non-null   float64\n",
      " 22   Operating Profit Per Share (Yuan ¥)                      6819 non-null   float64\n",
      " 23   Per Share Net profit before tax (Yuan ¥)                 6819 non-null   float64\n",
      " 24   Realized Sales Gross Profit Growth Rate                  6819 non-null   float64\n",
      " 25   Operating Profit Growth Rate                             6819 non-null   float64\n",
      " 26   After-tax Net Profit Growth Rate                         6819 non-null   float64\n",
      " 27   Regular Net Profit Growth Rate                           6819 non-null   float64\n",
      " 28   Continuous Net Profit Growth Rate                        6819 non-null   float64\n",
      " 29   Total Asset Growth Rate                                  6819 non-null   float64\n",
      " 30   Net Value Growth Rate                                    6819 non-null   float64\n",
      " 31   Total Asset Return Growth Rate Ratio                     6819 non-null   float64\n",
      " 32   Cash Reinvestment %                                      6819 non-null   float64\n",
      " 33   Current Ratio                                            6819 non-null   float64\n",
      " 34   Quick Ratio                                              6819 non-null   float64\n",
      " 35   Interest Expense Ratio                                   6819 non-null   float64\n",
      " 36   Total debt/Total net worth                               6819 non-null   float64\n",
      " 37   Debt ratio %                                             6819 non-null   float64\n",
      " 38   Net worth/Assets                                         6819 non-null   float64\n",
      " 39   Long-term fund suitability ratio (A)                     6819 non-null   float64\n",
      " 40   Borrowing dependency                                     6819 non-null   float64\n",
      " 41   Contingent liabilities/Net worth                         6819 non-null   float64\n",
      " 42   Operating profit/Paid-in capital                         6819 non-null   float64\n",
      " 43   Net profit before tax/Paid-in capital                    6819 non-null   float64\n",
      " 44   Inventory and accounts receivable/Net value              6819 non-null   float64\n",
      " 45   Total Asset Turnover                                     6819 non-null   float64\n",
      " 46   Accounts Receivable Turnover                             6819 non-null   float64\n",
      " 47   Average Collection Days                                  6819 non-null   float64\n",
      " 48   Inventory Turnover Rate (times)                          6819 non-null   float64\n",
      " 49   Fixed Assets Turnover Frequency                          6819 non-null   float64\n",
      " 50   Net Worth Turnover Rate (times)                          6819 non-null   float64\n",
      " 51   Revenue per person                                       6819 non-null   float64\n",
      " 52   Operating profit per person                              6819 non-null   float64\n",
      " 53   Allocation rate per person                               6819 non-null   float64\n",
      " 54   Working Capital to Total Assets                          6819 non-null   float64\n",
      " 55   Quick Assets/Total Assets                                6819 non-null   float64\n",
      " 56   Current Assets/Total Assets                              6819 non-null   float64\n",
      " 57   Cash/Total Assets                                        6819 non-null   float64\n",
      " 58   Quick Assets/Current Liability                           6819 non-null   float64\n",
      " 59   Cash/Current Liability                                   6819 non-null   float64\n",
      " 60   Current Liability to Assets                              6819 non-null   float64\n",
      " 61   Operating Funds to Liability                             6819 non-null   float64\n",
      " 62   Inventory/Working Capital                                6819 non-null   float64\n",
      " 63   Inventory/Current Liability                              6819 non-null   float64\n",
      " 64   Current Liabilities/Liability                            6819 non-null   float64\n",
      " 65   Working Capital/Equity                                   6819 non-null   float64\n",
      " 66   Current Liabilities/Equity                               6819 non-null   float64\n",
      " 67   Long-term Liability to Current Assets                    6819 non-null   float64\n",
      " 68   Retained Earnings to Total Assets                        6819 non-null   float64\n",
      " 69   Total income/Total expense                               6819 non-null   float64\n",
      " 70   Total expense/Assets                                     6819 non-null   float64\n",
      " 71   Current Asset Turnover Rate                              6819 non-null   float64\n",
      " 72   Quick Asset Turnover Rate                                6819 non-null   float64\n",
      " 73   Working capitcal Turnover Rate                           6819 non-null   float64\n",
      " 74   Cash Turnover Rate                                       6819 non-null   float64\n",
      " 75   Cash Flow to Sales                                       6819 non-null   float64\n",
      " 76   Fixed Assets to Assets                                   6819 non-null   float64\n",
      " 77   Current Liability to Liability                           6819 non-null   float64\n",
      " 78   Current Liability to Equity                              6819 non-null   float64\n",
      " 79   Equity to Long-term Liability                            6819 non-null   float64\n",
      " 80   Cash Flow to Total Assets                                6819 non-null   float64\n",
      " 81   Cash Flow to Liability                                   6819 non-null   float64\n",
      " 82   CFO to Assets                                            6819 non-null   float64\n",
      " 83   Cash Flow to Equity                                      6819 non-null   float64\n",
      " 84   Current Liability to Current Assets                      6819 non-null   float64\n",
      " 85   Liability-Assets Flag                                    6819 non-null   int64  \n",
      " 86   Net Income to Total Assets                               6819 non-null   float64\n",
      " 87   Total assets to GNP price                                6819 non-null   float64\n",
      " 88   No-credit Interval                                       6819 non-null   float64\n",
      " 89   Gross Profit to Sales                                    6819 non-null   float64\n",
      " 90   Net Income to Stockholder's Equity                       6819 non-null   float64\n",
      " 91   Liability to Equity                                      6819 non-null   float64\n",
      " 92   Degree of Financial Leverage (DFL)                       6819 non-null   float64\n",
      " 93   Interest Coverage Ratio (Interest expense to EBIT)       6819 non-null   float64\n",
      " 94   Net Income Flag                                          6819 non-null   int64  \n",
      " 95   Equity to Liability                                      6819 non-null   float64\n",
      "dtypes: float64(93), int64(3)\n",
      "memory usage: 5.0 MB\n"
     ]
    }
   ],
   "source": [
    "df.info()"
   ]
  },
  {
   "cell_type": "code",
   "execution_count": 54,
   "id": "baa028ad-cec8-4289-89f2-5a0efbf8bc3a",
   "metadata": {},
   "outputs": [
    {
     "data": {
      "text/plain": [
       "(6819, 96)"
      ]
     },
     "execution_count": 54,
     "metadata": {},
     "output_type": "execute_result"
    }
   ],
   "source": [
    "df.shape"
   ]
  },
  {
   "cell_type": "code",
   "execution_count": 55,
   "id": "4f680800-f04b-4a03-a771-9fccd04ea829",
   "metadata": {},
   "outputs": [],
   "source": [
    "# df.set_index(\"Bankrupt?\", inplace=True)"
   ]
  },
  {
   "cell_type": "code",
   "execution_count": 56,
   "id": "f5892de1-5cf8-44da-a0cb-6721002132b1",
   "metadata": {},
   "outputs": [
    {
     "data": {
      "text/html": [
       "<div>\n",
       "<style scoped>\n",
       "    .dataframe tbody tr th:only-of-type {\n",
       "        vertical-align: middle;\n",
       "    }\n",
       "\n",
       "    .dataframe tbody tr th {\n",
       "        vertical-align: top;\n",
       "    }\n",
       "\n",
       "    .dataframe thead th {\n",
       "        text-align: right;\n",
       "    }\n",
       "</style>\n",
       "<table border=\"1\" class=\"dataframe\">\n",
       "  <thead>\n",
       "    <tr style=\"text-align: right;\">\n",
       "      <th></th>\n",
       "      <th>Bankrupt?</th>\n",
       "      <th>ROA(C) before interest and depreciation before interest</th>\n",
       "      <th>ROA(A) before interest and % after tax</th>\n",
       "      <th>ROA(B) before interest and depreciation after tax</th>\n",
       "      <th>Operating Gross Margin</th>\n",
       "      <th>Realized Sales Gross Margin</th>\n",
       "      <th>Operating Profit Rate</th>\n",
       "      <th>Pre-tax net Interest Rate</th>\n",
       "      <th>After-tax net Interest Rate</th>\n",
       "      <th>Non-industry income and expenditure/revenue</th>\n",
       "      <th>...</th>\n",
       "      <th>Net Income to Total Assets</th>\n",
       "      <th>Total assets to GNP price</th>\n",
       "      <th>No-credit Interval</th>\n",
       "      <th>Gross Profit to Sales</th>\n",
       "      <th>Net Income to Stockholder's Equity</th>\n",
       "      <th>Liability to Equity</th>\n",
       "      <th>Degree of Financial Leverage (DFL)</th>\n",
       "      <th>Interest Coverage Ratio (Interest expense to EBIT)</th>\n",
       "      <th>Net Income Flag</th>\n",
       "      <th>Equity to Liability</th>\n",
       "    </tr>\n",
       "  </thead>\n",
       "  <tbody>\n",
       "    <tr>\n",
       "      <th>0</th>\n",
       "      <td>1</td>\n",
       "      <td>0.370594</td>\n",
       "      <td>0.424389</td>\n",
       "      <td>0.405750</td>\n",
       "      <td>0.601457</td>\n",
       "      <td>0.601457</td>\n",
       "      <td>0.998969</td>\n",
       "      <td>0.796887</td>\n",
       "      <td>0.808809</td>\n",
       "      <td>0.302646</td>\n",
       "      <td>...</td>\n",
       "      <td>0.716845</td>\n",
       "      <td>0.009219</td>\n",
       "      <td>0.622879</td>\n",
       "      <td>0.601453</td>\n",
       "      <td>0.827890</td>\n",
       "      <td>0.290202</td>\n",
       "      <td>0.026601</td>\n",
       "      <td>0.564050</td>\n",
       "      <td>1</td>\n",
       "      <td>0.016469</td>\n",
       "    </tr>\n",
       "    <tr>\n",
       "      <th>1</th>\n",
       "      <td>1</td>\n",
       "      <td>0.464291</td>\n",
       "      <td>0.538214</td>\n",
       "      <td>0.516730</td>\n",
       "      <td>0.610235</td>\n",
       "      <td>0.610235</td>\n",
       "      <td>0.998946</td>\n",
       "      <td>0.797380</td>\n",
       "      <td>0.809301</td>\n",
       "      <td>0.303556</td>\n",
       "      <td>...</td>\n",
       "      <td>0.795297</td>\n",
       "      <td>0.008323</td>\n",
       "      <td>0.623652</td>\n",
       "      <td>0.610237</td>\n",
       "      <td>0.839969</td>\n",
       "      <td>0.283846</td>\n",
       "      <td>0.264577</td>\n",
       "      <td>0.570175</td>\n",
       "      <td>1</td>\n",
       "      <td>0.020794</td>\n",
       "    </tr>\n",
       "    <tr>\n",
       "      <th>2</th>\n",
       "      <td>1</td>\n",
       "      <td>0.426071</td>\n",
       "      <td>0.499019</td>\n",
       "      <td>0.472295</td>\n",
       "      <td>0.601450</td>\n",
       "      <td>0.601364</td>\n",
       "      <td>0.998857</td>\n",
       "      <td>0.796403</td>\n",
       "      <td>0.808388</td>\n",
       "      <td>0.302035</td>\n",
       "      <td>...</td>\n",
       "      <td>0.774670</td>\n",
       "      <td>0.040003</td>\n",
       "      <td>0.623841</td>\n",
       "      <td>0.601449</td>\n",
       "      <td>0.836774</td>\n",
       "      <td>0.290189</td>\n",
       "      <td>0.026555</td>\n",
       "      <td>0.563706</td>\n",
       "      <td>1</td>\n",
       "      <td>0.016474</td>\n",
       "    </tr>\n",
       "    <tr>\n",
       "      <th>3</th>\n",
       "      <td>1</td>\n",
       "      <td>0.399844</td>\n",
       "      <td>0.451265</td>\n",
       "      <td>0.457733</td>\n",
       "      <td>0.583541</td>\n",
       "      <td>0.583541</td>\n",
       "      <td>0.998700</td>\n",
       "      <td>0.796967</td>\n",
       "      <td>0.808966</td>\n",
       "      <td>0.303350</td>\n",
       "      <td>...</td>\n",
       "      <td>0.739555</td>\n",
       "      <td>0.003252</td>\n",
       "      <td>0.622929</td>\n",
       "      <td>0.583538</td>\n",
       "      <td>0.834697</td>\n",
       "      <td>0.281721</td>\n",
       "      <td>0.026697</td>\n",
       "      <td>0.564663</td>\n",
       "      <td>1</td>\n",
       "      <td>0.023982</td>\n",
       "    </tr>\n",
       "    <tr>\n",
       "      <th>4</th>\n",
       "      <td>1</td>\n",
       "      <td>0.465022</td>\n",
       "      <td>0.538432</td>\n",
       "      <td>0.522298</td>\n",
       "      <td>0.598783</td>\n",
       "      <td>0.598783</td>\n",
       "      <td>0.998973</td>\n",
       "      <td>0.797366</td>\n",
       "      <td>0.809304</td>\n",
       "      <td>0.303475</td>\n",
       "      <td>...</td>\n",
       "      <td>0.795016</td>\n",
       "      <td>0.003878</td>\n",
       "      <td>0.623521</td>\n",
       "      <td>0.598782</td>\n",
       "      <td>0.839973</td>\n",
       "      <td>0.278514</td>\n",
       "      <td>0.024752</td>\n",
       "      <td>0.575617</td>\n",
       "      <td>1</td>\n",
       "      <td>0.035490</td>\n",
       "    </tr>\n",
       "  </tbody>\n",
       "</table>\n",
       "<p>5 rows × 96 columns</p>\n",
       "</div>"
      ],
      "text/plain": [
       "   Bankrupt?   ROA(C) before interest and depreciation before interest  \\\n",
       "0          1                                           0.370594          \n",
       "1          1                                           0.464291          \n",
       "2          1                                           0.426071          \n",
       "3          1                                           0.399844          \n",
       "4          1                                           0.465022          \n",
       "\n",
       "    ROA(A) before interest and % after tax  \\\n",
       "0                                 0.424389   \n",
       "1                                 0.538214   \n",
       "2                                 0.499019   \n",
       "3                                 0.451265   \n",
       "4                                 0.538432   \n",
       "\n",
       "    ROA(B) before interest and depreciation after tax  \\\n",
       "0                                           0.405750    \n",
       "1                                           0.516730    \n",
       "2                                           0.472295    \n",
       "3                                           0.457733    \n",
       "4                                           0.522298    \n",
       "\n",
       "    Operating Gross Margin   Realized Sales Gross Margin  \\\n",
       "0                 0.601457                      0.601457   \n",
       "1                 0.610235                      0.610235   \n",
       "2                 0.601450                      0.601364   \n",
       "3                 0.583541                      0.583541   \n",
       "4                 0.598783                      0.598783   \n",
       "\n",
       "    Operating Profit Rate   Pre-tax net Interest Rate  \\\n",
       "0                0.998969                    0.796887   \n",
       "1                0.998946                    0.797380   \n",
       "2                0.998857                    0.796403   \n",
       "3                0.998700                    0.796967   \n",
       "4                0.998973                    0.797366   \n",
       "\n",
       "    After-tax net Interest Rate   Non-industry income and expenditure/revenue  \\\n",
       "0                      0.808809                                      0.302646   \n",
       "1                      0.809301                                      0.303556   \n",
       "2                      0.808388                                      0.302035   \n",
       "3                      0.808966                                      0.303350   \n",
       "4                      0.809304                                      0.303475   \n",
       "\n",
       "   ...   Net Income to Total Assets   Total assets to GNP price  \\\n",
       "0  ...                     0.716845                    0.009219   \n",
       "1  ...                     0.795297                    0.008323   \n",
       "2  ...                     0.774670                    0.040003   \n",
       "3  ...                     0.739555                    0.003252   \n",
       "4  ...                     0.795016                    0.003878   \n",
       "\n",
       "    No-credit Interval   Gross Profit to Sales  \\\n",
       "0             0.622879                0.601453   \n",
       "1             0.623652                0.610237   \n",
       "2             0.623841                0.601449   \n",
       "3             0.622929                0.583538   \n",
       "4             0.623521                0.598782   \n",
       "\n",
       "    Net Income to Stockholder's Equity   Liability to Equity  \\\n",
       "0                             0.827890              0.290202   \n",
       "1                             0.839969              0.283846   \n",
       "2                             0.836774              0.290189   \n",
       "3                             0.834697              0.281721   \n",
       "4                             0.839973              0.278514   \n",
       "\n",
       "    Degree of Financial Leverage (DFL)  \\\n",
       "0                             0.026601   \n",
       "1                             0.264577   \n",
       "2                             0.026555   \n",
       "3                             0.026697   \n",
       "4                             0.024752   \n",
       "\n",
       "    Interest Coverage Ratio (Interest expense to EBIT)   Net Income Flag  \\\n",
       "0                                           0.564050                   1   \n",
       "1                                           0.570175                   1   \n",
       "2                                           0.563706                   1   \n",
       "3                                           0.564663                   1   \n",
       "4                                           0.575617                   1   \n",
       "\n",
       "    Equity to Liability  \n",
       "0              0.016469  \n",
       "1              0.020794  \n",
       "2              0.016474  \n",
       "3              0.023982  \n",
       "4              0.035490  \n",
       "\n",
       "[5 rows x 96 columns]"
      ]
     },
     "execution_count": 56,
     "metadata": {},
     "output_type": "execute_result"
    }
   ],
   "source": [
    "df.head()"
   ]
  },
  {
   "cell_type": "code",
   "execution_count": 57,
   "id": "12dc7f56-6bbb-48dd-81cf-25ff399bf710",
   "metadata": {},
   "outputs": [
    {
     "data": {
      "image/png": "[encoded data removed]",
      "text/plain": [
       "<Figure size 432x288 with 1 Axes>"
      ]
     },
     "metadata": {
      "needs_background": "light"
     },
     "output_type": "display_data"
    }
   ],
   "source": [
    "# Plot class balance\n",
    "df[\"Bankrupt?\"].value_counts(normalize=True).plot(\n",
    "    kind=\"bar\",\n",
    "    color=\"green\",\n",
    "    xlabel=\"Bankrupt\",\n",
    "    ylabel=\"frequency\",\n",
    "    title=\"Class Balance\"\n",
    ");"
   ]
  },
  {
   "cell_type": "code",
   "execution_count": 59,
   "id": "3a232ecb-21ba-452c-9abf-76d0f7f29707",
   "metadata": {},
   "outputs": [
    {
     "data": {
      "text/plain": [
       "['Bankrupt?',\n",
       " ' ROA(C) before interest and depreciation before interest',\n",
       " ' ROA(A) before interest and % after tax',\n",
       " ' ROA(B) before interest and depreciation after tax',\n",
       " ' Operating Gross Margin',\n",
       " ' Realized Sales Gross Margin',\n",
       " ' Operating Profit Rate',\n",
       " ' Pre-tax net Interest Rate',\n",
       " ' After-tax net Interest Rate',\n",
       " ' Non-industry income and expenditure/revenue',\n",
       " ' Continuous interest rate (after tax)',\n",
       " ' Operating Expense Rate',\n",
       " ' Research and development expense rate',\n",
       " ' Cash flow rate',\n",
       " ' Interest-bearing debt interest rate',\n",
       " ' Tax rate (A)',\n",
       " ' Net Value Per Share (B)',\n",
       " ' Net Value Per Share (A)',\n",
       " ' Net Value Per Share (C)',\n",
       " ' Persistent EPS in the Last Four Seasons',\n",
       " ' Cash Flow Per Share',\n",
       " ' Revenue Per Share (Yuan ¥)',\n",
       " ' Operating Profit Per Share (Yuan ¥)',\n",
       " ' Per Share Net profit before tax (Yuan ¥)',\n",
       " ' Realized Sales Gross Profit Growth Rate',\n",
       " ' Operating Profit Growth Rate',\n",
       " ' After-tax Net Profit Growth Rate',\n",
       " ' Regular Net Profit Growth Rate',\n",
       " ' Continuous Net Profit Growth Rate',\n",
       " ' Total Asset Growth Rate',\n",
       " ' Net Value Growth Rate',\n",
       " ' Total Asset Return Growth Rate Ratio',\n",
       " ' Cash Reinvestment %',\n",
       " ' Current Ratio',\n",
       " ' Quick Ratio',\n",
       " ' Interest Expense Ratio',\n",
       " ' Total debt/Total net worth',\n",
       " ' Debt ratio %',\n",
       " ' Net worth/Assets',\n",
       " ' Long-term fund suitability ratio (A)',\n",
       " ' Borrowing dependency',\n",
       " ' Contingent liabilities/Net worth',\n",
       " ' Operating profit/Paid-in capital',\n",
       " ' Net profit before tax/Paid-in capital',\n",
       " ' Inventory and accounts receivable/Net value',\n",
       " ' Total Asset Turnover',\n",
       " ' Accounts Receivable Turnover',\n",
       " ' Average Collection Days',\n",
       " ' Inventory Turnover Rate (times)',\n",
       " ' Fixed Assets Turnover Frequency',\n",
       " ' Net Worth Turnover Rate (times)',\n",
       " ' Revenue per person',\n",
       " ' Operating profit per person',\n",
       " ' Allocation rate per person',\n",
       " ' Working Capital to Total Assets',\n",
       " ' Quick Assets/Total Assets',\n",
       " ' Current Assets/Total Assets',\n",
       " ' Cash/Total Assets',\n",
       " ' Quick Assets/Current Liability',\n",
       " ' Cash/Current Liability',\n",
       " ' Current Liability to Assets',\n",
       " ' Operating Funds to Liability',\n",
       " ' Inventory/Working Capital',\n",
       " ' Inventory/Current Liability',\n",
       " ' Current Liabilities/Liability',\n",
       " ' Working Capital/Equity',\n",
       " ' Current Liabilities/Equity',\n",
       " ' Long-term Liability to Current Assets',\n",
       " ' Retained Earnings to Total Assets',\n",
       " ' Total income/Total expense',\n",
       " ' Total expense/Assets',\n",
       " ' Current Asset Turnover Rate',\n",
       " ' Quick Asset Turnover Rate',\n",
       " ' Working capitcal Turnover Rate',\n",
       " ' Cash Turnover Rate',\n",
       " ' Cash Flow to Sales',\n",
       " ' Fixed Assets to Assets',\n",
       " ' Current Liability to Liability',\n",
       " ' Current Liability to Equity',\n",
       " ' Equity to Long-term Liability',\n",
       " ' Cash Flow to Total Assets',\n",
       " ' Cash Flow to Liability',\n",
       " ' CFO to Assets',\n",
       " ' Cash Flow to Equity',\n",
       " ' Current Liability to Current Assets',\n",
       " ' Liability-Assets Flag',\n",
       " ' Net Income to Total Assets',\n",
       " ' Total assets to GNP price',\n",
       " ' No-credit Interval',\n",
       " ' Gross Profit to Sales',\n",
       " \" Net Income to Stockholder's Equity\",\n",
       " ' Liability to Equity',\n",
       " ' Degree of Financial Leverage (DFL)',\n",
       " ' Interest Coverage Ratio (Interest expense to EBIT)',\n",
       " ' Net Income Flag',\n",
       " ' Equity to Liability']"
      ]
     },
     "execution_count": 59,
     "metadata": {},
     "output_type": "execute_result"
    }
   ],
   "source": [
    "list(df.columns.values)"
   ]
  },
  {
   "cell_type": "code",
   "execution_count": 67,
   "id": "0cd7ae60-93f5-4004-840e-43050ed867f5",
   "metadata": {},
   "outputs": [
    {
     "data": {
      "image/png": "[encoded data removed]",
      "text/plain": [
       "<Figure size 432x288 with 1 Axes>"
      ]
     },
     "metadata": {
      "needs_background": "light"
     },
     "output_type": "display_data"
    }
   ],
   "source": [
    "# Create boxplot\n",
    "sns.boxplot(x=\"Bankrupt?\", y=' Total expense/Assets', data=df)\n",
    "plt.xlabel(\"Bankrupt\")\n",
    "plt.ylabel(\"Operating cost / financial expenses\")\n",
    "plt.title(\"Distribution of Profit/Expenses Ratio, by Class\"); "
   ]
  },
  {
   "cell_type": "code",
   "execution_count": 78,
   "id": "f4426879-7301-4bd5-ab57-82bd39338d25",
   "metadata": {},
   "outputs": [
    {
     "data": {
      "text/plain": [
       "count    6.819000e+03\n",
       "mean     5.508097e+09\n",
       "std      2.897718e+09\n",
       "min      0.000000e+00\n",
       "25%      4.860000e+09\n",
       "50%      6.400000e+09\n",
       "75%      7.390000e+09\n",
       "max      9.990000e+09\n",
       "Name:  Total Asset Growth Rate, dtype: float64"
      ]
     },
     "execution_count": 78,
     "metadata": {},
     "output_type": "execute_result"
    }
   ],
   "source": [
    "# Summary statistics for `feat_27`\n",
    "df[' Total Asset Growth Rate'].describe()\n"
   ]
  },
  {
   "cell_type": "code",
   "execution_count": 80,
   "id": "b9dc416a-a84e-4c62-916e-82b4abf4f9e4",
   "metadata": {},
   "outputs": [
    {
     "data": {
      "image/png": "[encoded data removed]",
      "text/plain": [
       "<Figure size 432x288 with 1 Axes>"
      ]
     },
     "metadata": {
      "needs_background": "light"
     },
     "output_type": "display_data"
    }
   ],
   "source": [
    "# Plot histogram of `feat_27`\n",
    "df[' Total expense/Assets'].hist()\n",
    "plt.xlabel(\"POA / financial expenses\")\n",
    "plt.ylabel(\"Count\"),\n",
    "plt.title(\"Distribution of Profit/Expenses Ratio\");"
   ]
  },
  {
   "cell_type": "code",
   "execution_count": 81,
   "id": "bfcabbdd-9c41-4034-a137-fed1523c1543",
   "metadata": {},
   "outputs": [
    {
     "data": {
      "image/png": "[encoded data removed]",
      "text/plain": [
       "<Figure size 432x288 with 1 Axes>"
      ]
     },
     "metadata": {
      "needs_background": "light"
     },
     "output_type": "display_data"
    }
   ],
   "source": [
    "# Create clipped boxplot\n",
    "q1,q9 = df[' Total expense/Assets'].quantile([0.1, 0.9])\n",
    "mask = df[' Total expense/Assets'].between(q1, q9)\n",
    "sns.boxplot(x=\"Bankrupt?\", y=' Total expense/Assets', data=df[mask])\n",
    "plt.xlabel(\"Bankrupt\")\n",
    "plt.ylabel(\"POA / financial expenses\")\n",
    "plt.title(\"Distribution of Profit/Expenses Ratio, by Bankruptcy Status\");"
   ]
  },
  {
   "cell_type": "code",
   "execution_count": 82,
   "id": "24a2218a-080b-400f-b4ea-0c897437e382",
   "metadata": {},
   "outputs": [
    {
     "data": {
      "image/png": "[encoded data removed]",
      "text/plain": [
       "<Figure size 432x288 with 2 Axes>"
      ]
     },
     "metadata": {
      "needs_background": "light"
     },
     "output_type": "display_data"
    }
   ],
   "source": [
    "corr = df.drop(columns=\"Bankrupt?\").corr()\n",
    "sns.heatmap(corr);"
   ]
  },
  {
   "cell_type": "markdown",
   "id": "04583e57-75cd-44b2-aa6b-9bc482f8c09d",
   "metadata": {},
   "source": [
    "Split"
   ]
  },
  {
   "cell_type": "code",
   "execution_count": 83,
   "id": "95547655-1595-49a0-b39f-bd9f70c46b54",
   "metadata": {
    "tags": []
   },
   "outputs": [
    {
     "name": "stdout",
     "output_type": "stream",
     "text": [
      "X shape: (6819, 95)\n",
      "y shape: (6819,)\n"
     ]
    }
   ],
   "source": [
    "target = \"Bankrupt?\"\n",
    "X = df.drop(columns=target)\n",
    "y = df[target]\n",
    "\n",
    "print(\"X shape:\", X.shape)\n",
    "print(\"y shape:\", y.shape)"
   ]
  },
  {
   "cell_type": "code",
   "execution_count": 84,
   "id": "3d293ade-4e3d-4b38-806a-009355d75fe9",
   "metadata": {},
   "outputs": [
    {
     "name": "stdout",
     "output_type": "stream",
     "text": [
      "X_train shape: (5455, 95)\n",
      "y_train shape: (5455,)\n",
      "X_test shape: (1364, 95)\n",
      "y_test shape: (1364,)\n"
     ]
    }
   ],
   "source": [
    "X_train, X_test, y_train, y_test = train_test_split(\n",
    "    X, y, test_size=0.2, random_state=42\n",
    ")\n",
    "\n",
    "print(\"X_train shape:\", X_train.shape)\n",
    "print(\"y_train shape:\", y_train.shape)\n",
    "print(\"X_test shape:\", X_test.shape)\n",
    "print(\"y_test shape:\", y_test.shape)"
   ]
  },
  {
   "cell_type": "code",
   "execution_count": 87,
   "id": "0af8b03d-9261-4902-9f17-21aa8bf4ca0b",
   "metadata": {},
   "outputs": [
    {
     "name": "stdout",
     "output_type": "stream",
     "text": [
      "(338, 95)\n"
     ]
    },
    {
     "data": {
      "text/html": [
       "<div>\n",
       "<style scoped>\n",
       "    .dataframe tbody tr th:only-of-type {\n",
       "        vertical-align: middle;\n",
       "    }\n",
       "\n",
       "    .dataframe tbody tr th {\n",
       "        vertical-align: top;\n",
       "    }\n",
       "\n",
       "    .dataframe thead th {\n",
       "        text-align: right;\n",
       "    }\n",
       "</style>\n",
       "<table border=\"1\" class=\"dataframe\">\n",
       "  <thead>\n",
       "    <tr style=\"text-align: right;\">\n",
       "      <th></th>\n",
       "      <th>ROA(C) before interest and depreciation before interest</th>\n",
       "      <th>ROA(A) before interest and % after tax</th>\n",
       "      <th>ROA(B) before interest and depreciation after tax</th>\n",
       "      <th>Operating Gross Margin</th>\n",
       "      <th>Realized Sales Gross Margin</th>\n",
       "      <th>Operating Profit Rate</th>\n",
       "      <th>Pre-tax net Interest Rate</th>\n",
       "      <th>After-tax net Interest Rate</th>\n",
       "      <th>Non-industry income and expenditure/revenue</th>\n",
       "      <th>Continuous interest rate (after tax)</th>\n",
       "      <th>...</th>\n",
       "      <th>Net Income to Total Assets</th>\n",
       "      <th>Total assets to GNP price</th>\n",
       "      <th>No-credit Interval</th>\n",
       "      <th>Gross Profit to Sales</th>\n",
       "      <th>Net Income to Stockholder's Equity</th>\n",
       "      <th>Liability to Equity</th>\n",
       "      <th>Degree of Financial Leverage (DFL)</th>\n",
       "      <th>Interest Coverage Ratio (Interest expense to EBIT)</th>\n",
       "      <th>Net Income Flag</th>\n",
       "      <th>Equity to Liability</th>\n",
       "    </tr>\n",
       "  </thead>\n",
       "  <tbody>\n",
       "    <tr>\n",
       "      <th>0</th>\n",
       "      <td>0.547409</td>\n",
       "      <td>0.597580</td>\n",
       "      <td>0.583757</td>\n",
       "      <td>0.604707</td>\n",
       "      <td>0.604707</td>\n",
       "      <td>0.999089</td>\n",
       "      <td>0.797593</td>\n",
       "      <td>0.809456</td>\n",
       "      <td>0.303629</td>\n",
       "      <td>0.781726</td>\n",
       "      <td>...</td>\n",
       "      <td>0.831586</td>\n",
       "      <td>0.001479</td>\n",
       "      <td>0.624287</td>\n",
       "      <td>0.604706</td>\n",
       "      <td>0.842928</td>\n",
       "      <td>0.279743</td>\n",
       "      <td>0.026801</td>\n",
       "      <td>0.565205</td>\n",
       "      <td>1</td>\n",
       "      <td>0.029354</td>\n",
       "    </tr>\n",
       "    <tr>\n",
       "      <th>1</th>\n",
       "      <td>0.575196</td>\n",
       "      <td>0.622928</td>\n",
       "      <td>0.609187</td>\n",
       "      <td>0.606142</td>\n",
       "      <td>0.606142</td>\n",
       "      <td>0.999085</td>\n",
       "      <td>0.797859</td>\n",
       "      <td>0.809654</td>\n",
       "      <td>0.304102</td>\n",
       "      <td>0.781934</td>\n",
       "      <td>...</td>\n",
       "      <td>0.845096</td>\n",
       "      <td>0.001891</td>\n",
       "      <td>0.624553</td>\n",
       "      <td>0.606139</td>\n",
       "      <td>0.843117</td>\n",
       "      <td>0.277089</td>\n",
       "      <td>0.026791</td>\n",
       "      <td>0.565159</td>\n",
       "      <td>1</td>\n",
       "      <td>0.050445</td>\n",
       "    </tr>\n",
       "    <tr>\n",
       "      <th>2</th>\n",
       "      <td>0.490567</td>\n",
       "      <td>0.552933</td>\n",
       "      <td>0.539483</td>\n",
       "      <td>0.629665</td>\n",
       "      <td>0.629520</td>\n",
       "      <td>0.999108</td>\n",
       "      <td>0.797607</td>\n",
       "      <td>0.809484</td>\n",
       "      <td>0.303613</td>\n",
       "      <td>0.781755</td>\n",
       "      <td>...</td>\n",
       "      <td>0.810341</td>\n",
       "      <td>0.001115</td>\n",
       "      <td>0.624214</td>\n",
       "      <td>0.629664</td>\n",
       "      <td>0.840741</td>\n",
       "      <td>0.275084</td>\n",
       "      <td>0.026791</td>\n",
       "      <td>0.565158</td>\n",
       "      <td>1</td>\n",
       "      <td>0.250781</td>\n",
       "    </tr>\n",
       "    <tr>\n",
       "      <th>3</th>\n",
       "      <td>0.543899</td>\n",
       "      <td>0.598779</td>\n",
       "      <td>0.593180</td>\n",
       "      <td>0.602740</td>\n",
       "      <td>0.602754</td>\n",
       "      <td>0.999041</td>\n",
       "      <td>0.797495</td>\n",
       "      <td>0.809399</td>\n",
       "      <td>0.303559</td>\n",
       "      <td>0.781664</td>\n",
       "      <td>...</td>\n",
       "      <td>0.828565</td>\n",
       "      <td>0.001621</td>\n",
       "      <td>0.623379</td>\n",
       "      <td>0.602735</td>\n",
       "      <td>0.843240</td>\n",
       "      <td>0.282201</td>\n",
       "      <td>0.026865</td>\n",
       "      <td>0.565489</td>\n",
       "      <td>1</td>\n",
       "      <td>0.023104</td>\n",
       "    </tr>\n",
       "    <tr>\n",
       "      <th>4</th>\n",
       "      <td>0.608980</td>\n",
       "      <td>0.658689</td>\n",
       "      <td>0.655174</td>\n",
       "      <td>0.612491</td>\n",
       "      <td>0.613183</td>\n",
       "      <td>0.999193</td>\n",
       "      <td>0.798374</td>\n",
       "      <td>0.810111</td>\n",
       "      <td>0.304774</td>\n",
       "      <td>0.782440</td>\n",
       "      <td>...</td>\n",
       "      <td>0.867959</td>\n",
       "      <td>0.010567</td>\n",
       "      <td>0.621156</td>\n",
       "      <td>0.612491</td>\n",
       "      <td>0.843773</td>\n",
       "      <td>0.275537</td>\n",
       "      <td>0.026791</td>\n",
       "      <td>0.565158</td>\n",
       "      <td>1</td>\n",
       "      <td>0.123342</td>\n",
       "    </tr>\n",
       "  </tbody>\n",
       "</table>\n",
       "<p>5 rows × 95 columns</p>\n",
       "</div>"
      ],
      "text/plain": [
       "    ROA(C) before interest and depreciation before interest  \\\n",
       "0                                           0.547409          \n",
       "1                                           0.575196          \n",
       "2                                           0.490567          \n",
       "3                                           0.543899          \n",
       "4                                           0.608980          \n",
       "\n",
       "    ROA(A) before interest and % after tax  \\\n",
       "0                                 0.597580   \n",
       "1                                 0.622928   \n",
       "2                                 0.552933   \n",
       "3                                 0.598779   \n",
       "4                                 0.658689   \n",
       "\n",
       "    ROA(B) before interest and depreciation after tax  \\\n",
       "0                                           0.583757    \n",
       "1                                           0.609187    \n",
       "2                                           0.539483    \n",
       "3                                           0.593180    \n",
       "4                                           0.655174    \n",
       "\n",
       "    Operating Gross Margin   Realized Sales Gross Margin  \\\n",
       "0                 0.604707                      0.604707   \n",
       "1                 0.606142                      0.606142   \n",
       "2                 0.629665                      0.629520   \n",
       "3                 0.602740                      0.602754   \n",
       "4                 0.612491                      0.613183   \n",
       "\n",
       "    Operating Profit Rate   Pre-tax net Interest Rate  \\\n",
       "0                0.999089                    0.797593   \n",
       "1                0.999085                    0.797859   \n",
       "2                0.999108                    0.797607   \n",
       "3                0.999041                    0.797495   \n",
       "4                0.999193                    0.798374   \n",
       "\n",
       "    After-tax net Interest Rate   Non-industry income and expenditure/revenue  \\\n",
       "0                      0.809456                                      0.303629   \n",
       "1                      0.809654                                      0.304102   \n",
       "2                      0.809484                                      0.303613   \n",
       "3                      0.809399                                      0.303559   \n",
       "4                      0.810111                                      0.304774   \n",
       "\n",
       "    Continuous interest rate (after tax)  ...   Net Income to Total Assets  \\\n",
       "0                               0.781726  ...                     0.831586   \n",
       "1                               0.781934  ...                     0.845096   \n",
       "2                               0.781755  ...                     0.810341   \n",
       "3                               0.781664  ...                     0.828565   \n",
       "4                               0.782440  ...                     0.867959   \n",
       "\n",
       "    Total assets to GNP price   No-credit Interval   Gross Profit to Sales  \\\n",
       "0                    0.001479             0.624287                0.604706   \n",
       "1                    0.001891             0.624553                0.606139   \n",
       "2                    0.001115             0.624214                0.629664   \n",
       "3                    0.001621             0.623379                0.602735   \n",
       "4                    0.010567             0.621156                0.612491   \n",
       "\n",
       "    Net Income to Stockholder's Equity   Liability to Equity  \\\n",
       "0                             0.842928              0.279743   \n",
       "1                             0.843117              0.277089   \n",
       "2                             0.840741              0.275084   \n",
       "3                             0.843240              0.282201   \n",
       "4                             0.843773              0.275537   \n",
       "\n",
       "    Degree of Financial Leverage (DFL)  \\\n",
       "0                             0.026801   \n",
       "1                             0.026791   \n",
       "2                             0.026791   \n",
       "3                             0.026865   \n",
       "4                             0.026791   \n",
       "\n",
       "    Interest Coverage Ratio (Interest expense to EBIT)   Net Income Flag  \\\n",
       "0                                           0.565205                   1   \n",
       "1                                           0.565159                   1   \n",
       "2                                           0.565158                   1   \n",
       "3                                           0.565489                   1   \n",
       "4                                           0.565158                   1   \n",
       "\n",
       "    Equity to Liability  \n",
       "0              0.029354  \n",
       "1              0.050445  \n",
       "2              0.250781  \n",
       "3              0.023104  \n",
       "4              0.123342  \n",
       "\n",
       "[5 rows x 95 columns]"
      ]
     },
     "execution_count": 87,
     "metadata": {},
     "output_type": "execute_result"
    }
   ],
   "source": [
    "#Random under sampling\n",
    "under_sampler = RandomUnderSampler(random_state=42)\n",
    "X_train_under, y_train_under = under_sampler.fit_resample(X_train, y_train)\n",
    "print(X_train_under.shape)\n",
    "X_train_under.head()"
   ]
  },
  {
   "cell_type": "code",
   "execution_count": 88,
   "id": "fe6760a4-c69a-4372-a0b5-a16f3b728550",
   "metadata": {},
   "outputs": [
    {
     "name": "stdout",
     "output_type": "stream",
     "text": [
      "(10572, 95)\n"
     ]
    },
    {
     "data": {
      "text/html": [
       "<div>\n",
       "<style scoped>\n",
       "    .dataframe tbody tr th:only-of-type {\n",
       "        vertical-align: middle;\n",
       "    }\n",
       "\n",
       "    .dataframe tbody tr th {\n",
       "        vertical-align: top;\n",
       "    }\n",
       "\n",
       "    .dataframe thead th {\n",
       "        text-align: right;\n",
       "    }\n",
       "</style>\n",
       "<table border=\"1\" class=\"dataframe\">\n",
       "  <thead>\n",
       "    <tr style=\"text-align: right;\">\n",
       "      <th></th>\n",
       "      <th>ROA(C) before interest and depreciation before interest</th>\n",
       "      <th>ROA(A) before interest and % after tax</th>\n",
       "      <th>ROA(B) before interest and depreciation after tax</th>\n",
       "      <th>Operating Gross Margin</th>\n",
       "      <th>Realized Sales Gross Margin</th>\n",
       "      <th>Operating Profit Rate</th>\n",
       "      <th>Pre-tax net Interest Rate</th>\n",
       "      <th>After-tax net Interest Rate</th>\n",
       "      <th>Non-industry income and expenditure/revenue</th>\n",
       "      <th>Continuous interest rate (after tax)</th>\n",
       "      <th>...</th>\n",
       "      <th>Net Income to Total Assets</th>\n",
       "      <th>Total assets to GNP price</th>\n",
       "      <th>No-credit Interval</th>\n",
       "      <th>Gross Profit to Sales</th>\n",
       "      <th>Net Income to Stockholder's Equity</th>\n",
       "      <th>Liability to Equity</th>\n",
       "      <th>Degree of Financial Leverage (DFL)</th>\n",
       "      <th>Interest Coverage Ratio (Interest expense to EBIT)</th>\n",
       "      <th>Net Income Flag</th>\n",
       "      <th>Equity to Liability</th>\n",
       "    </tr>\n",
       "  </thead>\n",
       "  <tbody>\n",
       "    <tr>\n",
       "      <th>0</th>\n",
       "      <td>0.498513</td>\n",
       "      <td>0.542848</td>\n",
       "      <td>0.544622</td>\n",
       "      <td>0.599194</td>\n",
       "      <td>0.599036</td>\n",
       "      <td>0.998986</td>\n",
       "      <td>0.797412</td>\n",
       "      <td>0.809330</td>\n",
       "      <td>0.303528</td>\n",
       "      <td>0.781593</td>\n",
       "      <td>...</td>\n",
       "      <td>0.801313</td>\n",
       "      <td>0.005821</td>\n",
       "      <td>0.623649</td>\n",
       "      <td>0.599196</td>\n",
       "      <td>0.840580</td>\n",
       "      <td>0.282564</td>\n",
       "      <td>0.027239</td>\n",
       "      <td>0.566658</td>\n",
       "      <td>1</td>\n",
       "      <td>0.022512</td>\n",
       "    </tr>\n",
       "    <tr>\n",
       "      <th>1</th>\n",
       "      <td>0.506606</td>\n",
       "      <td>0.562309</td>\n",
       "      <td>0.558863</td>\n",
       "      <td>0.609334</td>\n",
       "      <td>0.609334</td>\n",
       "      <td>0.999027</td>\n",
       "      <td>0.797450</td>\n",
       "      <td>0.809375</td>\n",
       "      <td>0.303508</td>\n",
       "      <td>0.781637</td>\n",
       "      <td>...</td>\n",
       "      <td>0.810914</td>\n",
       "      <td>0.000481</td>\n",
       "      <td>0.623932</td>\n",
       "      <td>0.609332</td>\n",
       "      <td>0.841339</td>\n",
       "      <td>0.280570</td>\n",
       "      <td>0.026843</td>\n",
       "      <td>0.565395</td>\n",
       "      <td>1</td>\n",
       "      <td>0.026670</td>\n",
       "    </tr>\n",
       "    <tr>\n",
       "      <th>2</th>\n",
       "      <td>0.508799</td>\n",
       "      <td>0.561001</td>\n",
       "      <td>0.554687</td>\n",
       "      <td>0.614242</td>\n",
       "      <td>0.614055</td>\n",
       "      <td>0.999094</td>\n",
       "      <td>0.797533</td>\n",
       "      <td>0.809424</td>\n",
       "      <td>0.303514</td>\n",
       "      <td>0.781692</td>\n",
       "      <td>...</td>\n",
       "      <td>0.809740</td>\n",
       "      <td>0.001397</td>\n",
       "      <td>0.623714</td>\n",
       "      <td>0.614241</td>\n",
       "      <td>0.840969</td>\n",
       "      <td>0.277772</td>\n",
       "      <td>0.026864</td>\n",
       "      <td>0.565484</td>\n",
       "      <td>1</td>\n",
       "      <td>0.041556</td>\n",
       "    </tr>\n",
       "    <tr>\n",
       "      <th>3</th>\n",
       "      <td>0.499976</td>\n",
       "      <td>0.562527</td>\n",
       "      <td>0.546764</td>\n",
       "      <td>0.597825</td>\n",
       "      <td>0.597825</td>\n",
       "      <td>0.999004</td>\n",
       "      <td>0.797411</td>\n",
       "      <td>0.809329</td>\n",
       "      <td>0.303490</td>\n",
       "      <td>0.781590</td>\n",
       "      <td>...</td>\n",
       "      <td>0.810082</td>\n",
       "      <td>0.000998</td>\n",
       "      <td>0.623986</td>\n",
       "      <td>0.597824</td>\n",
       "      <td>0.841885</td>\n",
       "      <td>0.286871</td>\n",
       "      <td>0.026951</td>\n",
       "      <td>0.565820</td>\n",
       "      <td>1</td>\n",
       "      <td>0.018173</td>\n",
       "    </tr>\n",
       "    <tr>\n",
       "      <th>4</th>\n",
       "      <td>0.477892</td>\n",
       "      <td>0.547700</td>\n",
       "      <td>0.529150</td>\n",
       "      <td>0.600362</td>\n",
       "      <td>0.600362</td>\n",
       "      <td>0.998975</td>\n",
       "      <td>0.797412</td>\n",
       "      <td>0.809333</td>\n",
       "      <td>0.303551</td>\n",
       "      <td>0.781584</td>\n",
       "      <td>...</td>\n",
       "      <td>0.804638</td>\n",
       "      <td>0.002826</td>\n",
       "      <td>0.623845</td>\n",
       "      <td>0.600363</td>\n",
       "      <td>0.840885</td>\n",
       "      <td>0.282073</td>\n",
       "      <td>0.026959</td>\n",
       "      <td>0.565848</td>\n",
       "      <td>1</td>\n",
       "      <td>0.023328</td>\n",
       "    </tr>\n",
       "  </tbody>\n",
       "</table>\n",
       "<p>5 rows × 95 columns</p>\n",
       "</div>"
      ],
      "text/plain": [
       "    ROA(C) before interest and depreciation before interest  \\\n",
       "0                                           0.498513          \n",
       "1                                           0.506606          \n",
       "2                                           0.508799          \n",
       "3                                           0.499976          \n",
       "4                                           0.477892          \n",
       "\n",
       "    ROA(A) before interest and % after tax  \\\n",
       "0                                 0.542848   \n",
       "1                                 0.562309   \n",
       "2                                 0.561001   \n",
       "3                                 0.562527   \n",
       "4                                 0.547700   \n",
       "\n",
       "    ROA(B) before interest and depreciation after tax  \\\n",
       "0                                           0.544622    \n",
       "1                                           0.558863    \n",
       "2                                           0.554687    \n",
       "3                                           0.546764    \n",
       "4                                           0.529150    \n",
       "\n",
       "    Operating Gross Margin   Realized Sales Gross Margin  \\\n",
       "0                 0.599194                      0.599036   \n",
       "1                 0.609334                      0.609334   \n",
       "2                 0.614242                      0.614055   \n",
       "3                 0.597825                      0.597825   \n",
       "4                 0.600362                      0.600362   \n",
       "\n",
       "    Operating Profit Rate   Pre-tax net Interest Rate  \\\n",
       "0                0.998986                    0.797412   \n",
       "1                0.999027                    0.797450   \n",
       "2                0.999094                    0.797533   \n",
       "3                0.999004                    0.797411   \n",
       "4                0.998975                    0.797412   \n",
       "\n",
       "    After-tax net Interest Rate   Non-industry income and expenditure/revenue  \\\n",
       "0                      0.809330                                      0.303528   \n",
       "1                      0.809375                                      0.303508   \n",
       "2                      0.809424                                      0.303514   \n",
       "3                      0.809329                                      0.303490   \n",
       "4                      0.809333                                      0.303551   \n",
       "\n",
       "    Continuous interest rate (after tax)  ...   Net Income to Total Assets  \\\n",
       "0                               0.781593  ...                     0.801313   \n",
       "1                               0.781637  ...                     0.810914   \n",
       "2                               0.781692  ...                     0.809740   \n",
       "3                               0.781590  ...                     0.810082   \n",
       "4                               0.781584  ...                     0.804638   \n",
       "\n",
       "    Total assets to GNP price   No-credit Interval   Gross Profit to Sales  \\\n",
       "0                    0.005821             0.623649                0.599196   \n",
       "1                    0.000481             0.623932                0.609332   \n",
       "2                    0.001397             0.623714                0.614241   \n",
       "3                    0.000998             0.623986                0.597824   \n",
       "4                    0.002826             0.623845                0.600363   \n",
       "\n",
       "    Net Income to Stockholder's Equity   Liability to Equity  \\\n",
       "0                             0.840580              0.282564   \n",
       "1                             0.841339              0.280570   \n",
       "2                             0.840969              0.277772   \n",
       "3                             0.841885              0.286871   \n",
       "4                             0.840885              0.282073   \n",
       "\n",
       "    Degree of Financial Leverage (DFL)  \\\n",
       "0                             0.027239   \n",
       "1                             0.026843   \n",
       "2                             0.026864   \n",
       "3                             0.026951   \n",
       "4                             0.026959   \n",
       "\n",
       "    Interest Coverage Ratio (Interest expense to EBIT)   Net Income Flag  \\\n",
       "0                                           0.566658                   1   \n",
       "1                                           0.565395                   1   \n",
       "2                                           0.565484                   1   \n",
       "3                                           0.565820                   1   \n",
       "4                                           0.565848                   1   \n",
       "\n",
       "    Equity to Liability  \n",
       "0              0.022512  \n",
       "1              0.026670  \n",
       "2              0.041556  \n",
       "3              0.018173  \n",
       "4              0.023328  \n",
       "\n",
       "[5 rows x 95 columns]"
      ]
     },
     "execution_count": 88,
     "metadata": {},
     "output_type": "execute_result"
    }
   ],
   "source": [
    "# Random Over-sampling for our imbalanced data\n",
    "over_sampler = RandomOverSampler(random_state=42)\n",
    "X_train_over, y_train_over = over_sampler.fit_resample(X_train, y_train)\n",
    "print(X_train_over.shape)\n",
    "X_train_over.head()"
   ]
  },
  {
   "cell_type": "markdown",
   "id": "65f7459e-21fc-4f65-b864-5042525f502b",
   "metadata": {},
   "source": [
    "Build Model"
   ]
  },
  {
   "cell_type": "code",
   "execution_count": 89,
   "id": "e03480b1-0861-4347-b8d6-e91be7c668da",
   "metadata": {},
   "outputs": [
    {
     "name": "stdout",
     "output_type": "stream",
     "text": [
      "Baseline Accuracy: 0.969\n"
     ]
    }
   ],
   "source": [
    "#Baseline Accuracy\n",
    "acc_baseline = y_train.value_counts(normalize=True).max()\n",
    "print(\"Baseline Accuracy:\", round(acc_baseline, 4))"
   ]
  },
  {
   "cell_type": "code",
   "execution_count": 90,
   "id": "288dd936-1b09-4861-990d-803e4036ff2e",
   "metadata": {},
   "outputs": [
    {
     "data": {
      "text/plain": [
       "Pipeline(steps=[('simpleimputer', SimpleImputer(strategy='median')),\n",
       "                ('decisiontreeclassifier',\n",
       "                 DecisionTreeClassifier(random_state=42))])"
      ]
     },
     "execution_count": 90,
     "metadata": {},
     "output_type": "execute_result"
    }
   ],
   "source": [
    "# Fit on `X_train`, `y_train`\n",
    "model_reg = make_pipeline(\n",
    "    SimpleImputer(strategy=\"median\"), DecisionTreeClassifier(random_state=42)\n",
    ")\n",
    "model_reg.fit(X_train, y_train)\n",
    "\n",
    "# Fit on `X_train_under`, `y_train_under`\n",
    "model_under = make_pipeline(\n",
    "    SimpleImputer(strategy=\"median\"), DecisionTreeClassifier(random_state=42)\n",
    ")\n",
    "model_under.fit(X_train_under, y_train_under)\n",
    "\n",
    "# Fit on `X_train_over`, `y_train_over`\n",
    "model_over = make_pipeline(\n",
    "    SimpleImputer(strategy=\"median\"), DecisionTreeClassifier(random_state=42)\n",
    ")\n",
    "model_over.fit(X_train_over, y_train_over)"
   ]
  },
  {
   "cell_type": "code",
   "execution_count": 91,
   "id": "a6e2c14b-5e05-4c8a-a540-b39240ce5a7d",
   "metadata": {},
   "outputs": [
    {
     "name": "stdout",
     "output_type": "stream",
     "text": [
      "Training Accuracy: 1.0\n",
      "Test Accuracy: 0.9531\n",
      "Training Accuracy: 0.813\n",
      "Test Accuracy: 0.8057\n",
      "Training Accuracy: 1.0\n",
      "Test Accuracy: 0.9604\n"
     ]
    }
   ],
   "source": [
    "for m in [model_reg, model_under, model_over]:\n",
    "    acc_train = m.score(X_train, y_train)\n",
    "    acc_test = m.score(X_test, y_test)\n",
    "\n",
    "    print(\"Training Accuracy:\", round(acc_train, 4))\n",
    "    print(\"Test Accuracy:\", round(acc_test, 4))"
   ]
  },
  {
   "cell_type": "markdown",
   "id": "1ff229a6-b3c8-4f97-bd49-03daceabae05",
   "metadata": {},
   "source": [
    "\"Good\" accuracy ratings don't reveal anything about how well the model performs with unbalanced input. Let's examine how the model predicted the two classes in the dataset rather than what it got right or incorrect."
   ]
  },
  {
   "cell_type": "code",
   "execution_count": 92,
   "id": "fbd80c72-d25a-4e7a-adc1-99e7ca675478",
   "metadata": {},
   "outputs": [
    {
     "data": {
      "image/png": "[encoded data removed]",
      "text/plain": [
       "<Figure size 432x288 with 2 Axes>"
      ]
     },
     "metadata": {
      "needs_background": "light"
     },
     "output_type": "display_data"
    }
   ],
   "source": [
    "# Plot confusion matrix\n",
    "ConfusionMatrixDisplay.from_estimator(model_reg, X_test, y_test);"
   ]
  },
  {
   "cell_type": "code",
   "execution_count": 93,
   "id": "db75b776-6a14-4297-803c-fba6b790ea20",
   "metadata": {},
   "outputs": [
    {
     "name": "stdout",
     "output_type": "stream",
     "text": [
      "53\n"
     ]
    }
   ],
   "source": [
    "# Determine the depth of the decision tree in model_over\n",
    "depth = model_over.named_steps[\"decisiontreeclassifier\"].get_depth()\n",
    "print(depth)"
   ]
  },
  {
   "cell_type": "code",
   "execution_count": 94,
   "id": "caadd4d2-dc29-4e81-afdb-95e0ced03d01",
   "metadata": {},
   "outputs": [],
   "source": [
    "# Get importances\n",
    "importances = model_over.named_steps[\"decisiontreeclassifier\"].feature_importances_\n"
   ]
  },
  {
   "cell_type": "code",
   "execution_count": 95,
   "id": "e21c9d46-eed0-4ca6-8e93-6c79141536d9",
   "metadata": {},
   "outputs": [],
   "source": [
    "# Put importances into a Series\n",
    "feat_imp = pd.Series(importances, index=X_train_over.columns).sort_values()"
   ]
  },
  {
   "cell_type": "code",
   "execution_count": 96,
   "id": "26b01aea-7810-4508-a892-e0860c3b91dc",
   "metadata": {},
   "outputs": [
    {
     "data": {
      "image/png": "[encoded data removed]",
      "text/plain": [
       "<Figure size 432x288 with 1 Axes>"
      ]
     },
     "metadata": {
      "needs_background": "light"
     },
     "output_type": "display_data"
    }
   ],
   "source": [
    "# most important features\n",
    "# Plot series\n",
    "feat_imp.tail(15).plot(kind=\"barh\")\n",
    "plt.xlabel(\"Gini Importance\")\n",
    "plt.ylabel(\"Feature\")\n",
    "plt.title(\"model_over Feature Importance\");"
   ]
  },
  {
   "cell_type": "code",
   "execution_count": 100,
   "id": "08dab72e-01a5-4204-8fba-e1425cc286ec",
   "metadata": {},
   "outputs": [
    {
     "name": "stdout",
     "output_type": "stream",
     "text": [
      "Pipeline(steps=[('simpleimputer', SimpleImputer()),\n",
      "                ('randomforestclassifier',\n",
      "                 RandomForestClassifier(random_state=42))])\n"
     ]
    }
   ],
   "source": [
    "clf = make_pipeline(SimpleImputer(), RandomForestClassifier(random_state=42))\n",
    "print(clf)"
   ]
  },
  {
   "cell_type": "code",
   "execution_count": 101,
   "id": "671e86b3-5bb7-4d9d-b2a1-1e659fba4891",
   "metadata": {},
   "outputs": [
    {
     "name": "stdout",
     "output_type": "stream",
     "text": [
      "[0.99338061 0.99432624 0.99432356 0.99668874 0.99432356]\n"
     ]
    }
   ],
   "source": [
    "# cross-validation with my classifier, using the over-sampled training data\n",
    "cv_acc_scores = cross_val_score(clf, X_train_over, y_train_over, cv=5, n_jobs=-1)\n",
    "print(cv_acc_scores)"
   ]
  },
  {
   "cell_type": "code",
   "execution_count": 102,
   "id": "8e4902f9-282f-4920-838c-dc8c202df95f",
   "metadata": {},
   "outputs": [
    {
     "data": {
      "text/plain": [
       "{'simpleimputer__strategy': ['mean', 'median'],\n",
       " 'randomforestclassifier__n_estimators': range(25, 100, 25),\n",
       " 'randomforestclassifier__max_depth': range(10, 50, 10)}"
      ]
     },
     "execution_count": 102,
     "metadata": {},
     "output_type": "execute_result"
    }
   ],
   "source": [
    "# dictionary with the range of hyperparameters that I want to use to evaluate for my classifier\n",
    "params = {\n",
    "    \"simpleimputer__strategy\": [\"mean\", \"median\"],\n",
    "    \"randomforestclassifier__n_estimators\": range(25, 100, 25),\n",
    "    \"randomforestclassifier__max_depth\": range(10, 50, 10)    \n",
    "}\n",
    "params"
   ]
  },
  {
   "cell_type": "code",
   "execution_count": 103,
   "id": "1603c377-bc5e-455f-8e14-0755b4829482",
   "metadata": {},
   "outputs": [
    {
     "data": {
      "text/plain": [
       "GridSearchCV(cv=5,\n",
       "             estimator=Pipeline(steps=[('simpleimputer', SimpleImputer()),\n",
       "                                       ('randomforestclassifier',\n",
       "                                        RandomForestClassifier(random_state=42))]),\n",
       "             n_jobs=-1,\n",
       "             param_grid={'randomforestclassifier__max_depth': range(10, 50, 10),\n",
       "                         'randomforestclassifier__n_estimators': range(25, 100, 25),\n",
       "                         'simpleimputer__strategy': ['mean', 'median']},\n",
       "             verbose=1)"
      ]
     },
     "execution_count": 103,
     "metadata": {},
     "output_type": "execute_result"
    }
   ],
   "source": [
    "# GridSearchCV named model that includes my classifier and hyperparameter grid\n",
    "model = GridSearchCV(\n",
    "    clf,\n",
    "    param_grid=params,\n",
    "    cv=5,\n",
    "    n_jobs=-1,\n",
    "    verbose=1\n",
    ")\n",
    "model"
   ]
  },
  {
   "cell_type": "code",
   "execution_count": 104,
   "id": "66e5ecee-c1cd-4f2a-b92e-ffd305431230",
   "metadata": {},
   "outputs": [
    {
     "name": "stdout",
     "output_type": "stream",
     "text": [
      "Fitting 5 folds for each of 24 candidates, totalling 120 fits\n"
     ]
    },
    {
     "data": {
      "text/plain": [
       "GridSearchCV(cv=5,\n",
       "             estimator=Pipeline(steps=[('simpleimputer', SimpleImputer()),\n",
       "                                       ('randomforestclassifier',\n",
       "                                        RandomForestClassifier(random_state=42))]),\n",
       "             n_jobs=-1,\n",
       "             param_grid={'randomforestclassifier__max_depth': range(10, 50, 10),\n",
       "                         'randomforestclassifier__n_estimators': range(25, 100, 25),\n",
       "                         'simpleimputer__strategy': ['mean', 'median']},\n",
       "             verbose=1)"
      ]
     },
     "execution_count": 104,
     "metadata": {},
     "output_type": "execute_result"
    }
   ],
   "source": [
    "# Train model\n",
    "model.fit(X_train_over, y_train_over)"
   ]
  },
  {
   "cell_type": "code",
   "execution_count": 106,
   "id": "37fa73c6-75c8-4c67-917e-f95f5bb8cce6",
   "metadata": {
    "tags": []
   },
   "outputs": [
    {
     "data": {
      "text/html": [
       "<div>\n",
       "<style scoped>\n",
       "    .dataframe tbody tr th:only-of-type {\n",
       "        vertical-align: middle;\n",
       "    }\n",
       "\n",
       "    .dataframe tbody tr th {\n",
       "        vertical-align: top;\n",
       "    }\n",
       "\n",
       "    .dataframe thead th {\n",
       "        text-align: right;\n",
       "    }\n",
       "</style>\n",
       "<table border=\"1\" class=\"dataframe\">\n",
       "  <thead>\n",
       "    <tr style=\"text-align: right;\">\n",
       "      <th></th>\n",
       "      <th>mean_fit_time</th>\n",
       "      <th>std_fit_time</th>\n",
       "      <th>mean_score_time</th>\n",
       "      <th>std_score_time</th>\n",
       "      <th>param_randomforestclassifier__max_depth</th>\n",
       "      <th>param_randomforestclassifier__n_estimators</th>\n",
       "      <th>param_simpleimputer__strategy</th>\n",
       "      <th>params</th>\n",
       "      <th>split0_test_score</th>\n",
       "      <th>split1_test_score</th>\n",
       "      <th>split2_test_score</th>\n",
       "      <th>split3_test_score</th>\n",
       "      <th>split4_test_score</th>\n",
       "      <th>mean_test_score</th>\n",
       "      <th>std_test_score</th>\n",
       "      <th>rank_test_score</th>\n",
       "    </tr>\n",
       "  </thead>\n",
       "  <tbody>\n",
       "    <tr>\n",
       "      <th>0</th>\n",
       "      <td>2.764415</td>\n",
       "      <td>0.094693</td>\n",
       "      <td>0.082775</td>\n",
       "      <td>0.014213</td>\n",
       "      <td>10</td>\n",
       "      <td>25</td>\n",
       "      <td>mean</td>\n",
       "      <td>{'randomforestclassifier__max_depth': 10, 'ran...</td>\n",
       "      <td>0.979196</td>\n",
       "      <td>0.977778</td>\n",
       "      <td>0.980132</td>\n",
       "      <td>0.978713</td>\n",
       "      <td>0.979659</td>\n",
       "      <td>0.979096</td>\n",
       "      <td>0.000811</td>\n",
       "      <td>21</td>\n",
       "    </tr>\n",
       "    <tr>\n",
       "      <th>1</th>\n",
       "      <td>3.010485</td>\n",
       "      <td>0.230983</td>\n",
       "      <td>0.069223</td>\n",
       "      <td>0.024814</td>\n",
       "      <td>10</td>\n",
       "      <td>25</td>\n",
       "      <td>median</td>\n",
       "      <td>{'randomforestclassifier__max_depth': 10, 'ran...</td>\n",
       "      <td>0.979196</td>\n",
       "      <td>0.977778</td>\n",
       "      <td>0.980132</td>\n",
       "      <td>0.978713</td>\n",
       "      <td>0.979659</td>\n",
       "      <td>0.979096</td>\n",
       "      <td>0.000811</td>\n",
       "      <td>21</td>\n",
       "    </tr>\n",
       "    <tr>\n",
       "      <th>2</th>\n",
       "      <td>4.792111</td>\n",
       "      <td>0.175449</td>\n",
       "      <td>0.088992</td>\n",
       "      <td>0.030487</td>\n",
       "      <td>10</td>\n",
       "      <td>50</td>\n",
       "      <td>mean</td>\n",
       "      <td>{'randomforestclassifier__max_depth': 10, 'ran...</td>\n",
       "      <td>0.979669</td>\n",
       "      <td>0.979196</td>\n",
       "      <td>0.980132</td>\n",
       "      <td>0.979186</td>\n",
       "      <td>0.979186</td>\n",
       "      <td>0.979474</td>\n",
       "      <td>0.000378</td>\n",
       "      <td>19</td>\n",
       "    </tr>\n",
       "    <tr>\n",
       "      <th>3</th>\n",
       "      <td>4.621130</td>\n",
       "      <td>0.199018</td>\n",
       "      <td>0.072775</td>\n",
       "      <td>0.006508</td>\n",
       "      <td>10</td>\n",
       "      <td>50</td>\n",
       "      <td>median</td>\n",
       "      <td>{'randomforestclassifier__max_depth': 10, 'ran...</td>\n",
       "      <td>0.979669</td>\n",
       "      <td>0.979196</td>\n",
       "      <td>0.980132</td>\n",
       "      <td>0.979186</td>\n",
       "      <td>0.979186</td>\n",
       "      <td>0.979474</td>\n",
       "      <td>0.000378</td>\n",
       "      <td>19</td>\n",
       "    </tr>\n",
       "    <tr>\n",
       "      <th>4</th>\n",
       "      <td>5.980130</td>\n",
       "      <td>0.174440</td>\n",
       "      <td>0.091272</td>\n",
       "      <td>0.007243</td>\n",
       "      <td>10</td>\n",
       "      <td>75</td>\n",
       "      <td>mean</td>\n",
       "      <td>{'randomforestclassifier__max_depth': 10, 'ran...</td>\n",
       "      <td>0.979196</td>\n",
       "      <td>0.980142</td>\n",
       "      <td>0.977294</td>\n",
       "      <td>0.979659</td>\n",
       "      <td>0.978713</td>\n",
       "      <td>0.979001</td>\n",
       "      <td>0.000977</td>\n",
       "      <td>23</td>\n",
       "    </tr>\n",
       "  </tbody>\n",
       "</table>\n",
       "</div>"
      ],
      "text/plain": [
       "   mean_fit_time  std_fit_time  mean_score_time  std_score_time  \\\n",
       "0       2.764415      0.094693         0.082775        0.014213   \n",
       "1       3.010485      0.230983         0.069223        0.024814   \n",
       "2       4.792111      0.175449         0.088992        0.030487   \n",
       "3       4.621130      0.199018         0.072775        0.006508   \n",
       "4       5.980130      0.174440         0.091272        0.007243   \n",
       "\n",
       "  param_randomforestclassifier__max_depth  \\\n",
       "0                                      10   \n",
       "1                                      10   \n",
       "2                                      10   \n",
       "3                                      10   \n",
       "4                                      10   \n",
       "\n",
       "  param_randomforestclassifier__n_estimators param_simpleimputer__strategy  \\\n",
       "0                                         25                          mean   \n",
       "1                                         25                        median   \n",
       "2                                         50                          mean   \n",
       "3                                         50                        median   \n",
       "4                                         75                          mean   \n",
       "\n",
       "                                              params  split0_test_score  \\\n",
       "0  {'randomforestclassifier__max_depth': 10, 'ran...           0.979196   \n",
       "1  {'randomforestclassifier__max_depth': 10, 'ran...           0.979196   \n",
       "2  {'randomforestclassifier__max_depth': 10, 'ran...           0.979669   \n",
       "3  {'randomforestclassifier__max_depth': 10, 'ran...           0.979669   \n",
       "4  {'randomforestclassifier__max_depth': 10, 'ran...           0.979196   \n",
       "\n",
       "   split1_test_score  split2_test_score  split3_test_score  split4_test_score  \\\n",
       "0           0.977778           0.980132           0.978713           0.979659   \n",
       "1           0.977778           0.980132           0.978713           0.979659   \n",
       "2           0.979196           0.980132           0.979186           0.979186   \n",
       "3           0.979196           0.980132           0.979186           0.979186   \n",
       "4           0.980142           0.977294           0.979659           0.978713   \n",
       "\n",
       "   mean_test_score  std_test_score  rank_test_score  \n",
       "0         0.979096        0.000811               21  \n",
       "1         0.979096        0.000811               21  \n",
       "2         0.979474        0.000378               19  \n",
       "3         0.979474        0.000378               19  \n",
       "4         0.979001        0.000977               23  "
      ]
     },
     "execution_count": 106,
     "metadata": {},
     "output_type": "execute_result"
    }
   ],
   "source": [
    "# Extracting the cross-validation results from model and loading them into a DataFrame named cv_results\n",
    "cv_results = pd.DataFrame(model.cv_results_)\n",
    "cv_results.head()"
   ]
  },
  {
   "cell_type": "code",
   "execution_count": 107,
   "id": "9be3b41f-630d-4632-9668-2e62c3ded58f",
   "metadata": {
    "tags": []
   },
   "outputs": [],
   "source": [
    "# Create a mask for cv_results for rows where \"param_randomforestclassifier__max_depth\" equals 10\n",
    "mask = cv_results[\"param_randomforestclassifier__max_depth\"] == 10"
   ]
  },
  {
   "cell_type": "code",
   "execution_count": 108,
   "id": "7001ed46-c8b6-4bab-8e88-7bbf56bf94a6",
   "metadata": {},
   "outputs": [
    {
     "data": {
      "image/png": "[encoded data removed]",
      "text/plain": [
       "<Figure size 432x288 with 1 Axes>"
      ]
     },
     "metadata": {
      "needs_background": "light"
     },
     "output_type": "display_data"
    }
   ],
   "source": [
    "# Plot mean-fit time vs n_estimators\n",
    "plt.plot(\n",
    "    cv_results[mask][\"param_randomforestclassifier__n_estimators\"],\n",
    "    cv_results[mask][\"mean_fit_time\"]\n",
    ")\n",
    "plt.xlabel(\"Number of Estimators\")\n",
    "plt.ylabel(\"Mean Fit Time [seconds]\")\n",
    "plt.title(\"Training Time vs Estimators (max_depth=10)\");"
   ]
  },
  {
   "cell_type": "code",
   "execution_count": 109,
   "id": "b7a94e43-6761-4e10-86cb-5e0bb7d41b0e",
   "metadata": {},
   "outputs": [],
   "source": [
    "# Creating a mask for cv_results for rows where \"param_randomforestclassifier__n_estimators\" equals 25\n",
    "mask = cv_results[\"param_randomforestclassifier__n_estimators\"] == 25"
   ]
  },
  {
   "cell_type": "code",
   "execution_count": 110,
   "id": "5eaeae2e-4639-407a-a435-25d7710e1ca5",
   "metadata": {},
   "outputs": [
    {
     "data": {
      "image/png": "[encoded data removed]",
      "text/plain": [
       "<Figure size 432x288 with 1 Axes>"
      ]
     },
     "metadata": {
      "needs_background": "light"
     },
     "output_type": "display_data"
    }
   ],
   "source": [
    "# Plot fit time vs max_depth\n",
    "plt.plot(\n",
    "    cv_results[mask][\"param_randomforestclassifier__max_depth\"],\n",
    "    cv_results[mask][\"mean_fit_time\"]\n",
    ")\n",
    "\n",
    "plt.xlabel(\"Max Depth\")\n",
    "plt.ylabel(\"Mean Fit Time [seconds]\")\n",
    "plt.title(\"Training Time vs Max Depth (n_estimators=25)\");"
   ]
  },
  {
   "cell_type": "markdown",
   "id": "4ce38667-4312-4bc4-84d2-0b009636d82d",
   "metadata": {},
   "source": [
    "Although there is a general increasing tendency, there is a lot of ups and downs in this area. This is because grid search tests the mean and median imputation procedures for each max depth. "
   ]
  },
  {
   "cell_type": "code",
   "execution_count": 111,
   "id": "3a2d2d25-7d7e-412c-8253-365795039761",
   "metadata": {},
   "outputs": [
    {
     "data": {
      "text/plain": [
       "{'randomforestclassifier__max_depth': 40,\n",
       " 'randomforestclassifier__n_estimators': 50,\n",
       " 'simpleimputer__strategy': 'mean'}"
      ]
     },
     "execution_count": 111,
     "metadata": {},
     "output_type": "execute_result"
    }
   ],
   "source": [
    "# Extract best hyperparameters\n",
    "model.best_params_"
   ]
  },
  {
   "cell_type": "code",
   "execution_count": 112,
   "id": "1bc193c6-fdcd-4879-a86d-7e98d6228312",
   "metadata": {},
   "outputs": [
    {
     "data": {
      "text/plain": [
       "0.99498692718363"
      ]
     },
     "execution_count": 112,
     "metadata": {},
     "output_type": "execute_result"
    }
   ],
   "source": [
    "model.best_score_ "
   ]
  },
  {
   "cell_type": "markdown",
   "id": "b457a285-c303-4f40-acde-3dbeae55c301",
   "metadata": {},
   "source": [
    "Evaluating the model"
   ]
  },
  {
   "cell_type": "code",
   "execution_count": 115,
   "id": "ea2ef898-9d7b-4a4a-a49e-c0e090483de1",
   "metadata": {},
   "outputs": [
    {
     "name": "stdout",
     "output_type": "stream",
     "text": [
      "Training Accuracy: 1.0\n",
      "Test Accuracy: 0.9663\n"
     ]
    }
   ],
   "source": [
    "acc_train = model.score(X_train, y_train)\n",
    "acc_test = model.score(X_test, y_test)\n",
    "\n",
    "print(\"Training Accuracy:\", round(acc_train, 4))\n",
    "print(\"Test Accuracy:\", round(acc_test, 4))"
   ]
  },
  {
   "cell_type": "code",
   "execution_count": 116,
   "id": "7a097a07-edde-4cd8-82aa-533b0283ea7c",
   "metadata": {},
   "outputs": [
    {
     "data": {
      "text/plain": [
       "0    1313\n",
       "1      51\n",
       "Name: Bankrupt?, dtype: int64"
      ]
     },
     "execution_count": 116,
     "metadata": {},
     "output_type": "execute_result"
    }
   ],
   "source": [
    "y_test.value_counts()"
   ]
  },
  {
   "cell_type": "code",
   "execution_count": 117,
   "id": "39340732-c056-4fde-b3f6-d92e7fa9c977",
   "metadata": {},
   "outputs": [
    {
     "data": {
      "image/png": "[encoded data removed]",
      "text/plain": [
       "<Figure size 432x288 with 2 Axes>"
      ]
     },
     "metadata": {
      "needs_background": "light"
     },
     "output_type": "display_data"
    }
   ],
   "source": [
    "# Plot confusion matrix\n",
    "ConfusionMatrixDisplay.from_estimator(model, X_test, y_test);"
   ]
  },
  {
   "cell_type": "code",
   "execution_count": 118,
   "id": "0c39c1ab-6dad-4f1b-8335-278ee96ec170",
   "metadata": {},
   "outputs": [
    {
     "data": {
      "image/png": "[encoded data removed]",
      "text/plain": [
       "<Figure size 432x288 with 1 Axes>"
      ]
     },
     "metadata": {
      "needs_background": "light"
     },
     "output_type": "display_data"
    }
   ],
   "source": [
    "# Horizontal bar chart with the 10 most important features for my model\n",
    "\n",
    "# Get feature names from training data\n",
    "features = X_train_over.columns\n",
    "# Extract importances from model\n",
    "importances = model.best_estimator_.named_steps[\"randomforestclassifier\"].feature_importances_\n",
    "# Create a series with feature names and importances\n",
    "feat_imp = pd.Series(importances, index=features).sort_values()\n",
    "# Plot 10 most important features\n",
    "feat_imp.tail(10).plot(kind=\"barh\")\n",
    "plt.xlabel(\"Gini Importance\")\n",
    "plt.ylabel(\"Feature\")\n",
    "plt.title(\"Feature Importance\");"
   ]
  },
  {
   "cell_type": "code",
   "execution_count": 119,
   "id": "e8ae8028-5cc7-4a46-987e-6451efb778d4",
   "metadata": {},
   "outputs": [],
   "source": [
    "# Save model\n",
    "with open(\"model-randforcl-bankruptcy\", \"wb\") as f:\n",
    "    pickle.dump(model, f)"
   ]
  },
  {
   "cell_type": "code",
   "execution_count": 121,
   "id": "d8728c5f-5566-40b7-a4af-34ea21e213d3",
   "metadata": {},
   "outputs": [],
   "source": [
    "# pipeline named clf (short for \"classifier\") that contains a SimpleImputer transformer and a GradientBoostingClassifier predictor"
   ]
  },
  {
   "cell_type": "code",
   "execution_count": 126,
   "id": "ad77d8ab-e099-41cb-976e-e0ca3ac1d12f",
   "metadata": {},
   "outputs": [
    {
     "name": "stdout",
     "output_type": "stream",
     "text": [
      "Pipeline(steps=[('simpleimputer', SimpleImputer()),\n",
      "                ('gradientboostingclassifier', GradientBoostingClassifier())])\n"
     ]
    }
   ],
   "source": [
    "clf = make_pipeline(SimpleImputer(), GradientBoostingClassifier())\n",
    "print(clf)"
   ]
  },
  {
   "cell_type": "code",
   "execution_count": 127,
   "id": "192cd617-a729-40bc-97e2-a9511e6d4519",
   "metadata": {},
   "outputs": [
    {
     "data": {
      "text/plain": [
       "{'simpleimputer__strategy': ['mean', 'median'],\n",
       " 'gradientboostingclassifier__n_estimators': range(20, 31, 5),\n",
       " 'gradientboostingclassifier__max_depth': range(2, 5)}"
      ]
     },
     "execution_count": 127,
     "metadata": {},
     "output_type": "execute_result"
    }
   ],
   "source": [
    "params = {\n",
    "    \"simpleimputer__strategy\": [\"mean\", \"median\"],\n",
    "    \"gradientboostingclassifier__n_estimators\": range(20, 31, 5),\n",
    "    \"gradientboostingclassifier__max_depth\": range(2, 5)    \n",
    "}\n",
    "params"
   ]
  },
  {
   "cell_type": "code",
   "execution_count": 128,
   "id": "a7a42ba1-0a70-47c1-a5f1-31cf6fe20409",
   "metadata": {},
   "outputs": [
    {
     "data": {
      "text/plain": [
       "GridSearchCV(cv=5,\n",
       "             estimator=Pipeline(steps=[('simpleimputer', SimpleImputer()),\n",
       "                                       ('gradientboostingclassifier',\n",
       "                                        GradientBoostingClassifier())]),\n",
       "             n_jobs=-1,\n",
       "             param_grid={'gradientboostingclassifier__max_depth': range(2, 5),\n",
       "                         'gradientboostingclassifier__n_estimators': range(20, 31, 5),\n",
       "                         'simpleimputer__strategy': ['mean', 'median']},\n",
       "             verbose=1)"
      ]
     },
     "execution_count": 128,
     "metadata": {},
     "output_type": "execute_result"
    }
   ],
   "source": [
    "model = GridSearchCV(\n",
    "    clf,\n",
    "    param_grid=params,\n",
    "    cv=5,\n",
    "    n_jobs=-1,\n",
    "    verbose=1\n",
    ")\n",
    "model"
   ]
  },
  {
   "cell_type": "code",
   "execution_count": 129,
   "id": "13c4b6f8-56c8-4742-9f1d-e9a1a781968e",
   "metadata": {},
   "outputs": [
    {
     "name": "stdout",
     "output_type": "stream",
     "text": [
      "Fitting 5 folds for each of 18 candidates, totalling 90 fits\n"
     ]
    },
    {
     "data": {
      "text/plain": [
       "GridSearchCV(cv=5,\n",
       "             estimator=Pipeline(steps=[('simpleimputer', SimpleImputer()),\n",
       "                                       ('gradientboostingclassifier',\n",
       "                                        GradientBoostingClassifier())]),\n",
       "             n_jobs=-1,\n",
       "             param_grid={'gradientboostingclassifier__max_depth': range(2, 5),\n",
       "                         'gradientboostingclassifier__n_estimators': range(20, 31, 5),\n",
       "                         'simpleimputer__strategy': ['mean', 'median']},\n",
       "             verbose=1)"
      ]
     },
     "execution_count": 129,
     "metadata": {},
     "output_type": "execute_result"
    }
   ],
   "source": [
    "# Fit model to over-sampled training data\n",
    "model.fit(X_train_over, y_train_over)"
   ]
  },
  {
   "cell_type": "code",
   "execution_count": 130,
   "id": "36d948d1-be17-4739-90e7-1ac1f318a553",
   "metadata": {},
   "outputs": [
    {
     "data": {
      "text/html": [
       "<div>\n",
       "<style scoped>\n",
       "    .dataframe tbody tr th:only-of-type {\n",
       "        vertical-align: middle;\n",
       "    }\n",
       "\n",
       "    .dataframe tbody tr th {\n",
       "        vertical-align: top;\n",
       "    }\n",
       "\n",
       "    .dataframe thead th {\n",
       "        text-align: right;\n",
       "    }\n",
       "</style>\n",
       "<table border=\"1\" class=\"dataframe\">\n",
       "  <thead>\n",
       "    <tr style=\"text-align: right;\">\n",
       "      <th></th>\n",
       "      <th>mean_fit_time</th>\n",
       "      <th>std_fit_time</th>\n",
       "      <th>mean_score_time</th>\n",
       "      <th>std_score_time</th>\n",
       "      <th>param_gradientboostingclassifier__max_depth</th>\n",
       "      <th>param_gradientboostingclassifier__n_estimators</th>\n",
       "      <th>param_simpleimputer__strategy</th>\n",
       "      <th>params</th>\n",
       "      <th>split0_test_score</th>\n",
       "      <th>split1_test_score</th>\n",
       "      <th>split2_test_score</th>\n",
       "      <th>split3_test_score</th>\n",
       "      <th>split4_test_score</th>\n",
       "      <th>mean_test_score</th>\n",
       "      <th>std_test_score</th>\n",
       "      <th>rank_test_score</th>\n",
       "    </tr>\n",
       "  </thead>\n",
       "  <tbody>\n",
       "    <tr>\n",
       "      <th>17</th>\n",
       "      <td>16.722432</td>\n",
       "      <td>1.367676</td>\n",
       "      <td>0.019189</td>\n",
       "      <td>0.005151</td>\n",
       "      <td>4</td>\n",
       "      <td>30</td>\n",
       "      <td>median</td>\n",
       "      <td>{'gradientboostingclassifier__max_depth': 4, '...</td>\n",
       "      <td>0.962648</td>\n",
       "      <td>0.965012</td>\n",
       "      <td>0.964522</td>\n",
       "      <td>0.966887</td>\n",
       "      <td>0.971618</td>\n",
       "      <td>0.966137</td>\n",
       "      <td>0.003055</td>\n",
       "      <td>1</td>\n",
       "    </tr>\n",
       "    <tr>\n",
       "      <th>16</th>\n",
       "      <td>18.077252</td>\n",
       "      <td>0.113442</td>\n",
       "      <td>0.021189</td>\n",
       "      <td>0.000400</td>\n",
       "      <td>4</td>\n",
       "      <td>30</td>\n",
       "      <td>mean</td>\n",
       "      <td>{'gradientboostingclassifier__max_depth': 4, '...</td>\n",
       "      <td>0.962648</td>\n",
       "      <td>0.965012</td>\n",
       "      <td>0.964049</td>\n",
       "      <td>0.966887</td>\n",
       "      <td>0.971618</td>\n",
       "      <td>0.966043</td>\n",
       "      <td>0.003110</td>\n",
       "      <td>2</td>\n",
       "    </tr>\n",
       "    <tr>\n",
       "      <th>15</th>\n",
       "      <td>14.981624</td>\n",
       "      <td>0.347961</td>\n",
       "      <td>0.022987</td>\n",
       "      <td>0.005511</td>\n",
       "      <td>4</td>\n",
       "      <td>25</td>\n",
       "      <td>median</td>\n",
       "      <td>{'gradientboostingclassifier__max_depth': 4, '...</td>\n",
       "      <td>0.961229</td>\n",
       "      <td>0.962175</td>\n",
       "      <td>0.962157</td>\n",
       "      <td>0.964995</td>\n",
       "      <td>0.969726</td>\n",
       "      <td>0.964056</td>\n",
       "      <td>0.003104</td>\n",
       "      <td>3</td>\n",
       "    </tr>\n",
       "    <tr>\n",
       "      <th>14</th>\n",
       "      <td>15.365804</td>\n",
       "      <td>0.089219</td>\n",
       "      <td>0.025785</td>\n",
       "      <td>0.010641</td>\n",
       "      <td>4</td>\n",
       "      <td>25</td>\n",
       "      <td>mean</td>\n",
       "      <td>{'gradientboostingclassifier__max_depth': 4, '...</td>\n",
       "      <td>0.961229</td>\n",
       "      <td>0.962648</td>\n",
       "      <td>0.962157</td>\n",
       "      <td>0.964995</td>\n",
       "      <td>0.968780</td>\n",
       "      <td>0.963962</td>\n",
       "      <td>0.002710</td>\n",
       "      <td>4</td>\n",
       "    </tr>\n",
       "    <tr>\n",
       "      <th>12</th>\n",
       "      <td>11.530799</td>\n",
       "      <td>0.211205</td>\n",
       "      <td>0.024786</td>\n",
       "      <td>0.006993</td>\n",
       "      <td>4</td>\n",
       "      <td>20</td>\n",
       "      <td>mean</td>\n",
       "      <td>{'gradientboostingclassifier__max_depth': 4, '...</td>\n",
       "      <td>0.956974</td>\n",
       "      <td>0.960284</td>\n",
       "      <td>0.957900</td>\n",
       "      <td>0.960738</td>\n",
       "      <td>0.967360</td>\n",
       "      <td>0.960651</td>\n",
       "      <td>0.003640</td>\n",
       "      <td>5</td>\n",
       "    </tr>\n",
       "  </tbody>\n",
       "</table>\n",
       "</div>"
      ],
      "text/plain": [
       "    mean_fit_time  std_fit_time  mean_score_time  std_score_time  \\\n",
       "17      16.722432      1.367676         0.019189        0.005151   \n",
       "16      18.077252      0.113442         0.021189        0.000400   \n",
       "15      14.981624      0.347961         0.022987        0.005511   \n",
       "14      15.365804      0.089219         0.025785        0.010641   \n",
       "12      11.530799      0.211205         0.024786        0.006993   \n",
       "\n",
       "   param_gradientboostingclassifier__max_depth  \\\n",
       "17                                           4   \n",
       "16                                           4   \n",
       "15                                           4   \n",
       "14                                           4   \n",
       "12                                           4   \n",
       "\n",
       "   param_gradientboostingclassifier__n_estimators  \\\n",
       "17                                             30   \n",
       "16                                             30   \n",
       "15                                             25   \n",
       "14                                             25   \n",
       "12                                             20   \n",
       "\n",
       "   param_simpleimputer__strategy  \\\n",
       "17                        median   \n",
       "16                          mean   \n",
       "15                        median   \n",
       "14                          mean   \n",
       "12                          mean   \n",
       "\n",
       "                                               params  split0_test_score  \\\n",
       "17  {'gradientboostingclassifier__max_depth': 4, '...           0.962648   \n",
       "16  {'gradientboostingclassifier__max_depth': 4, '...           0.962648   \n",
       "15  {'gradientboostingclassifier__max_depth': 4, '...           0.961229   \n",
       "14  {'gradientboostingclassifier__max_depth': 4, '...           0.961229   \n",
       "12  {'gradientboostingclassifier__max_depth': 4, '...           0.956974   \n",
       "\n",
       "    split1_test_score  split2_test_score  split3_test_score  \\\n",
       "17           0.965012           0.964522           0.966887   \n",
       "16           0.965012           0.964049           0.966887   \n",
       "15           0.962175           0.962157           0.964995   \n",
       "14           0.962648           0.962157           0.964995   \n",
       "12           0.960284           0.957900           0.960738   \n",
       "\n",
       "    split4_test_score  mean_test_score  std_test_score  rank_test_score  \n",
       "17           0.971618         0.966137        0.003055                1  \n",
       "16           0.971618         0.966043        0.003110                2  \n",
       "15           0.969726         0.964056        0.003104                3  \n",
       "14           0.968780         0.963962        0.002710                4  \n",
       "12           0.967360         0.960651        0.003640                5  "
      ]
     },
     "execution_count": 130,
     "metadata": {},
     "output_type": "execute_result"
    }
   ],
   "source": [
    "# Extracting the cross-validation results from model and loading them into a DataFrame named cv_results\n",
    "results = pd.DataFrame(model.cv_results_)\n",
    "results.sort_values(\"rank_test_score\").head()"
   ]
  },
  {
   "cell_type": "code",
   "execution_count": 131,
   "id": "efb2f8f5-1890-46fa-8ae6-700a1645684c",
   "metadata": {},
   "outputs": [
    {
     "data": {
      "text/plain": [
       "{'gradientboostingclassifier__max_depth': 4,\n",
       " 'gradientboostingclassifier__n_estimators': 30,\n",
       " 'simpleimputer__strategy': 'median'}"
      ]
     },
     "execution_count": 131,
     "metadata": {},
     "output_type": "execute_result"
    }
   ],
   "source": [
    "# Extract best hyperparameters\n",
    "model.best_params_"
   ]
  },
  {
   "cell_type": "markdown",
   "id": "bb1b0bdb-cd52-484d-aac6-a03a2ce5e9d0",
   "metadata": {},
   "source": [
    "Evaluate"
   ]
  },
  {
   "cell_type": "code",
   "execution_count": 133,
   "id": "6c1b4ec8-d66a-4ff3-9736-163b6725fc10",
   "metadata": {},
   "outputs": [
    {
     "name": "stdout",
     "output_type": "stream",
     "text": [
      "Training Accuracy: 0.9487\n",
      "Validation Accuracy: 0.9267\n"
     ]
    }
   ],
   "source": [
    "acc_train = model.score(X_train, y_train)\n",
    "acc_test = model.score(X_test, y_test)\n",
    "\n",
    "print(\"Training Accuracy:\", round(acc_train, 4))\n",
    "print(\"Validation Accuracy:\", round(acc_test, 4))"
   ]
  },
  {
   "cell_type": "code",
   "execution_count": 144,
   "id": "50beea7b-1a82-4c99-856e-0b24068e7c2a",
   "metadata": {},
   "outputs": [
    {
     "data": {
      "image/png": "[encoded data removed]",
      "text/plain": [
       "<Figure size 432x288 with 2 Axes>"
      ]
     },
     "metadata": {
      "needs_background": "light"
     },
     "output_type": "display_data"
    }
   ],
   "source": [
    "# Plot confusion matrix\n",
    "ConfusionMatrixDisplay.from_estimator(model, X_test, y_test);"
   ]
  },
  {
   "cell_type": "code",
   "execution_count": 150,
   "id": "3b78f024-59a5-4a27-9b6c-c9d5a98a7b3b",
   "metadata": {},
   "outputs": [
    {
     "name": "stdout",
     "output_type": "stream",
     "text": [
      "              precision    recall  f1-score   support\n",
      "\n",
      "           0       0.99      0.94      0.96      1313\n",
      "           1       0.29      0.67      0.40        51\n",
      "\n",
      "    accuracy                           0.93      1364\n",
      "   macro avg       0.64      0.80      0.68      1364\n",
      "weighted avg       0.96      0.93      0.94      1364\n",
      "\n"
     ]
    }
   ],
   "source": [
    "# Print classification report\n",
    "\n",
    "print(classification_report(y_test, model.predict(X_test)))"
   ]
  },
  {
   "cell_type": "code",
   "execution_count": 148,
   "id": "d94f16e5-ac3d-4a29-a227-bd6e8488f3d0",
   "metadata": {},
   "outputs": [
    {
     "name": "stdout",
     "output_type": "stream",
     "text": [
      "Training Set Recall is 0.99\n"
     ]
    }
   ],
   "source": [
    "recall = recall_score(y_train, model.predict(X_train))\n",
    "\n",
    "print(f\"Training Set Recall is {round(recall, 2)}\")"
   ]
  },
  {
   "cell_type": "code",
   "execution_count": null,
   "id": "af147a9e-6e26-4222-875e-13b235b82d31",
   "metadata": {},
   "outputs": [],
   "source": []
  }
 ],
 "metadata": {
  "kernelspec": {
   "display_name": "Python 3 (ipykernel)",
   "language": "python",
   "name": "python3"
  },
  "language_info": {
   "codemirror_mode": {
    "name": "ipython",
    "version": 3
   },
   "file_extension": ".py",
   "mimetype": "text/x-python",
   "name": "python",
   "nbconvert_exporter": "python",
   "pygments_lexer": "ipython3",
   "version": "3.9.7"
  }
 },
 "nbformat": 4,
 "nbformat_minor": 5
}
